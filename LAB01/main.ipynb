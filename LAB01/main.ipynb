{
  "nbformat": 4,
  "nbformat_minor": 0,
  "metadata": {
    "colab": {
      "provenance": [],
      "authorship_tag": "ABX9TyPI3v2FxBz4X9eru+VhdVCT",
      "include_colab_link": true
    },
    "kernelspec": {
      "name": "python3",
      "display_name": "Python 3"
    },
    "language_info": {
      "name": "python"
    }
  },
  "cells": [
    {
      "cell_type": "markdown",
      "metadata": {
        "id": "view-in-github",
        "colab_type": "text"
      },
      "source": [
        "<a href=\"https://colab.research.google.com/github/rrfsantos/Large-Language-Model-Agents-MOOC-Fall-2024/blob/main/LAB01/main.ipynb\" target=\"_parent\"><img src=\"https://colab.research.google.com/assets/colab-badge.svg\" alt=\"Open In Colab\"/></a>"
      ]
    },
    {
      "cell_type": "code",
      "source": [
        "from google.colab import drive\n",
        "drive.mount('/content/drive')"
      ],
      "metadata": {
        "colab": {
          "base_uri": "https://localhost:8080/"
        },
        "id": "o5-N9WOS7KyQ",
        "outputId": "a4b54204-6eda-4356-8e55-c8826d09eede"
      },
      "execution_count": 1,
      "outputs": [
        {
          "output_type": "stream",
          "name": "stdout",
          "text": [
            "Drive already mounted at /content/drive; to attempt to forcibly remount, call drive.mount(\"/content/drive\", force_remount=True).\n"
          ]
        }
      ]
    },
    {
      "cell_type": "code",
      "source": [
        "#!pip install -r /content/drive/MyDrive/LLM-Lab1/requirements.txt"
      ],
      "metadata": {
        "id": "IInZcOEe7LlL"
      },
      "execution_count": 2,
      "outputs": []
    },
    {
      "cell_type": "code",
      "source": [
        "# -*- coding: utf-8 -*-\n",
        "from autogen import ConversableAgent, UserProxyAgent, GroupChat, GroupChatManager, register_function\n",
        "from numpy import sqrt\n",
        "from typing import Dict, List\n",
        "import sys\n",
        "import os\n",
        "from dotenv import load_dotenv\n",
        "import re\n",
        "\n",
        "# Load environment variables from .env file\n",
        "load_dotenv()\n",
        "\n",
        "\n",
        "import warnings\n",
        "warnings.simplefilter(action='ignore', category=FutureWarning)\n",
        "warnings.simplefilter(action='ignore', category=UserWarning)"
      ],
      "metadata": {
        "id": "lFkoT44i8Fh1",
        "colab": {
          "base_uri": "https://localhost:8080/"
        },
        "outputId": "a17fd168-6740-4c6c-c8a4-5149b1690573"
      },
      "execution_count": 3,
      "outputs": [
        {
          "output_type": "stream",
          "name": "stderr",
          "text": [
            "/usr/local/lib/python3.10/dist-packages/dask/dataframe/__init__.py:42: FutureWarning: \n",
            "Dask dataframe query planning is disabled because dask-expr is not installed.\n",
            "\n",
            "You can install it with `pip install dask[dataframe]` or `conda install dask`.\n",
            "This will raise in a future version.\n",
            "\n",
            "  warnings.warn(msg, FutureWarning)\n"
          ]
        }
      ]
    },
    {
      "cell_type": "code",
      "source": [
        "# Load environment variables from .env file\n",
        "load_dotenv(\"/content/drive/MyDrive/LLM-Lab1/env\")"
      ],
      "metadata": {
        "colab": {
          "base_uri": "https://localhost:8080/"
        },
        "id": "erR4RuMssgwa",
        "outputId": "88a7c72c-cea8-4fb4-b0c5-408e5d17024f"
      },
      "execution_count": 4,
      "outputs": [
        {
          "output_type": "execute_result",
          "data": {
            "text/plain": [
              "True"
            ]
          },
          "metadata": {},
          "execution_count": 4
        }
      ]
    },
    {
      "cell_type": "code",
      "source": [
        "#--------------------------------------------------------- AGENT FUNCTIONS ------------------------------------------------------------#"
      ],
      "metadata": {
        "id": "IcXcjc6M7XIv"
      },
      "execution_count": 5,
      "outputs": []
    },
    {
      "cell_type": "code",
      "source": [
        "def normalize_name(name: str) -> str:\n",
        "    # Remove special characters and convert to lowercase\n",
        "    return re.sub(r'[^a-zA-Z0-9]', '', name).lower()\n",
        "\n",
        "def fetch_restaurant_data(restaurant_name: str) -> Dict[str, List[str]]:\n",
        "    normalized_input_name = normalize_name(restaurant_name)\n",
        "    restaurant_reviews = {}\n",
        "    original_names = {}\n",
        "\n",
        "    with open('/content/drive/MyDrive/LLM-Lab1/restaurant-data.txt', 'r') as file:\n",
        "        for line in file:\n",
        "            name, review = line.split('. ', 1)\n",
        "            name = name.strip()\n",
        "            review = review.strip()\n",
        "            normalized_name = normalize_name(name)\n",
        "            if normalized_name not in restaurant_reviews:\n",
        "                restaurant_reviews[normalized_name] = []\n",
        "                original_names[normalized_name] = name\n",
        "            restaurant_reviews[normalized_name].append(review)\n",
        "\n",
        "    true_name = original_names.get(normalized_input_name, restaurant_name)\n",
        "    return {true_name: restaurant_reviews.get(normalized_input_name, [])}\n",
        "\n",
        "fetch_restaurant_data(\"Taco bell\")"
      ],
      "metadata": {
        "id": "BZTNo15Y8dCh",
        "colab": {
          "base_uri": "https://localhost:8080/"
        },
        "outputId": "89029903-3fb6-463c-948e-9634d834e828"
      },
      "execution_count": 6,
      "outputs": [
        {
          "output_type": "execute_result",
          "data": {
            "text/plain": [
              "{'Taco Bell': ['The food at Taco Bell was bad, with flavors that seemed artificial. The customer service was average, neither particularly helpful nor rude.',\n",
              "  'The food was bad, with flavors that were off and textures that were strange. The service was average, neither particularly good nor terrible.',\n",
              "  'The food was bad and left me feeling queasy. The customer service was forgettable, neither good nor terrible.',\n",
              "  'The food at Taco Bell was bad, with flavors that seemed artificial and unappealing. The service was average, neither particularly good nor terrible.',\n",
              "  'The food was bad, but the service was average. The tacos were unpleasant and lacked flavor, though the staff was polite enough.',\n",
              "  'The food at Taco Bell was bad, with flavors that seemed artificial. The service was average, neither impressive nor terrible.',\n",
              "  'The food at Taco Bell was bad, with flavors that felt artificial and unappetizing. The customer service was average, neither adding to nor detracting from the experience.',\n",
              "  'The food at Taco Bell was bad, with bland flavors and questionable quality. The customer service was average, neither particularly helpful nor offensive.',\n",
              "  'The food at Taco Bell was bad, with flavors that seemed artificial and unappealing. The customer service was average, neither particularly good nor notably poor.',\n",
              "  'The food at Taco Bell was bad, with items tasting stale and lukewarm. Customer service was average, neither impressive nor terrible.',\n",
              "  \"The food at Taco Bell was bad, with flavors that seemed artificial and unappealing. The service was average, but couldn't make up for the disappointing meal.\",\n",
              "  'The food at Taco Bell was bad, with greasy and unappetizing options. Customer service was uninspiring, neither particularly good nor terrible.',\n",
              "  'The food at Taco Bell was bad, lacking in flavor and freshness. The customer service was uninspiring, neither terrible nor impressive.',\n",
              "  \"The food at Taco Bell was bad, with flavors that didn't quite hit the mark. The customer service was average, neither impressive nor terrible.\",\n",
              "  \"The food at Taco Bell was bad, with soggy tacos and bland flavors. The customer service was average, but couldn't make up for the offensive quality of the food.\",\n",
              "  'The food at Taco Bell was bad, lacking in flavor and quality. The customer service was average, neither impressive nor terrible.',\n",
              "  'The food was bad, with soggy tacos and bland flavors. The service was uninspiring, neither terrible nor impressive.',\n",
              "  \"The food was bad, with soggy tacos and bland flavors. The service was average, but couldn't make up for the disappointing meal.\",\n",
              "  'The food at Taco Bell was bad, with questionable quality and taste. The customer service was average, neither impressive nor terrible.',\n",
              "  'The food at Taco Bell was bad, lacking in flavor and quality. The customer service was average, neither impressive nor particularly disappointing.',\n",
              "  \"The food at Taco Bell was bad, with questionable quality ingredients. The customer service was average, but couldn't make up for the offensive taste of the food.\",\n",
              "  'The food at Taco Bell was surprisingly enjoyable, with tasty tacos and burritos. The customer service was average, with a bit of a wait during peak hours.',\n",
              "  'The food at Taco Bell was bad, with flavors that seemed artificial and unappealing. The customer service was average, neither impressive nor terrible.',\n",
              "  \"The food at Taco Bell was bad, lacking in flavor and quality. The customer service was average, but couldn't make up for the unpleasant dining experience.\",\n",
              "  'The food at Taco Bell was bad, with questionable quality and taste. The customer service was uninspiring, neither terrible nor impressive.',\n",
              "  'The food at Taco Bell was bad, lacking in flavor and quality. The customer service was uninspiring, neither terrible nor impressive.',\n",
              "  'The food at Taco Bell was bad, with bland flavors and questionable quality. The service was average, neither impressive nor terrible.',\n",
              "  'The food at Taco Bell was bad, lacking in flavor and quality. The customer service was uninspiring, neither particularly good nor terrible.',\n",
              "  'The food at Taco Bell was bad, with soggy tacos and bland flavors. Customer service was uninspiring, neither good nor terrible.',\n",
              "  'The food at Taco Bell was bad, with greasy and unappetizing options. The customer service was average, neither impressive nor terrible.',\n",
              "  \"The food at Taco Bell was bad, with stale tortillas and bland fillings. The customer service was average, but couldn't make up for the unpleasant meal.\",\n",
              "  'The food at Taco Bell was bad, with bland flavors and questionable quality. The service was average, neither impressive nor terrible.',\n",
              "  'The food at Taco Bell was bad, with greasy and unappetizing options. Customer service was uninspiring, neither particularly good nor terrible.',\n",
              "  'The food at Taco Bell was bad, with low-quality ingredients and poor taste. The customer service was uninspiring, neither terrible nor impressive.',\n",
              "  'The food at Taco Bell was bad, with soggy tacos and bland flavors. Customer service was uninspiring, neither terrible nor impressive.',\n",
              "  'The food at Taco Bell was bad, with flavors that felt artificial and uninspired. The customer service was average, neither notably good nor terrible.',\n",
              "  \"The food at Taco Bell was bad, lacking in flavor and quality. The customer service was average, but couldn't make up for the unpleasant meal.\",\n",
              "  'The food at Taco Bell was bad, with flavors that felt artificial and unappetizing. The customer service was average, neither enhancing nor detracting from the experience.',\n",
              "  'The food at Taco Bell was bad, with bland flavors and questionable quality. Customer service was average, neither impressive nor terrible.',\n",
              "  'The food at Taco Bell was surprisingly enjoyable, with tasty and affordable Mexican-inspired dishes. The customer service was average, with some wait times during peak hours.']}"
            ]
          },
          "metadata": {},
          "execution_count": 6
        }
      ]
    },
    {
      "cell_type": "code",
      "source": [
        "def calculate_overall_score(restaurant_name: str, food_scores: List[int], customer_service_scores: List[int]) -> Dict[str, float]:\n",
        "    if len(food_scores) != len(customer_service_scores):\n",
        "        raise ValueError(\"The length of food_scores and customer_service_scores must be the same.\")\n",
        "\n",
        "    N = len(food_scores)\n",
        "    total_score = 0.0\n",
        "    geometric_mean = 0.0\n",
        "\n",
        "    for i in range(N):\n",
        "        geometric_mean = sqrt(food_scores[i]**2 * customer_service_scores[i])\n",
        "        total_score += geometric_mean\n",
        "\n",
        "    overall_score = (total_score / (N * sqrt(125))) * 10\n",
        "\n",
        "    return {restaurant_name: \"{:.3f}\".format(overall_score)}"
      ],
      "metadata": {
        "id": "-TjFgno-8q86"
      },
      "execution_count": 7,
      "outputs": []
    },
    {
      "cell_type": "code",
      "source": [
        "#------------------------------------------------------------ MAIN FUNCTION --------------------------------------------------------#"
      ],
      "metadata": {
        "id": "HP_sN_vi7jQz"
      },
      "execution_count": 8,
      "outputs": []
    },
    {
      "cell_type": "code",
      "source": [
        "def main(user_query: str):\n",
        "\n",
        "    # Load environment variables from .env file\n",
        "    llm_config = {\"config_list\": [{\"model\": \"gpt-4o\", \"api_key\" : os.getenv(\"OPENAI_API_KEY\")}]}\n",
        "\n",
        "# ------------------------------------------------------- AGENT'S SYSTEM MESSAGE ----------------------------------------------------#\n",
        "\n",
        "    entrypoint_agent_system_message = \"\"\"Analyze the user query {user_query} and use your knowlegde to promptly return the restaurant name in lowercase.\n",
        "    Send the restaurant name to Data Fetcher\"\"\"\n",
        "\n",
        "    data_fetch_agent_system_message = \"\"\" The Data Fetcher.\n",
        "        Solve the task using the python function fetch_restaurant_data. You use the fetch_restaurant_data function exclusively.\n",
        "        1. Use the correct restaurant name as input for the fetch_restaurant_data function.\n",
        "        2. Stop the search as soon as you find the correct match name in the file object.\n",
        "        3. Your final message must be the output containing correct restaurant's reviews generated by fetch_restaurant_data\n",
        "        function in the format -> Dict[str, List[str]].\n",
        "        4. Send the output to Review Retriever agent.\n",
        "        \"\"\"\n",
        "\n",
        "    review_agent_system_massage = \"\"\" The Review Retriever.\n",
        "        You must follow the instructions bellow to retrieve the reviews for a specific restaurant.\n",
        "            You should look at every single review corresponding to the queried restaurant and extract two scores:\n",
        "            •\tfood_score: the quality of food at the restaurant. This will be a score from 1-5.\n",
        "            •\tcustomer_service_score: the quality of customer service at the restaurant. This will be a score from 1-5.\n",
        "            You should extract these two scores by looking for keywords in the review. Each review has keyword adjectives corresponding to the score the restaurant should get for its food_score and customer_service_score. Here are the keywords the agent should look out for:\n",
        "            •\tScore 1/5 has one of these adjectives: awful, horrible, or disgusting.\n",
        "            •\tScore 2/5 has one of these adjectives: bad, unpleasant, or offensive.\n",
        "            •\tScore 3/5 has one of these adjectives: average, uninspiring, or forgettable.\n",
        "            •\tScore 4/5 has one of these adjectives: good, enjoyable, or satisfying.\n",
        "            •\tScore 5/5 has one of these adjectives: awesome, incredible, or amazing.\n",
        "            Each review will have exactly only two of these keywords (adjective describing food and adjective describing customer service), and the score (N/5) is only determined through the above listed keywords. No other factors go into score extraction. To illustrate the concept of scoring better, here's an example review.\n",
        "            ‘The food at McDonald's was average, but the customer service was unpleasant. The uninspiring menu options were served quickly, but the staff seemed disinterested and unhelpful.’\n",
        "            The food is described as \"average\", corresponding to a food_score of 3. We also noticed that customer service is described as \"unpleasant\", which corresponds to a customer_service_score of 2. Therefore, you should be able to determine food_score: 3 and customer_service_score: 2 for this example review.\n",
        "            At the end you should have extracted two scores (food_score and customer_service_score) for every review associated with the restaurant in the query.\n",
        "            The two scores (food_score and customer_service_score) must have the same length.\n",
        "\n",
        "            **** Is mandatory to you to send the information to the Scoring Calculator agent with the format bellow.\n",
        "                Arguments: {restaurant_name: str, food_scores: List[int], customer_service_scores: List[int]} ****\n",
        "            \"\"\"\n",
        "\n",
        "    score_agent_system_message = \"\"\" The Score Calculator.\n",
        "        Solve the task using the python function calculate_overall_score.\n",
        "        You use the calculate_overall_score function exclusively.\n",
        "        Your last message MUST have the format: {restaurant_name: round(overall_score, 3)} --->>>>\n",
        "        \"\"\"\n",
        "\n",
        "    #-------------------------------------------------- AGENT'S CONFIGURATION ------------------------------------------------------#\n",
        "\n",
        "    initializer = ConversableAgent(name=\"Init\",\n",
        "                                   human_input_mode=\"NEVER\",\n",
        "                                   code_execution_config=False)\n",
        "\n",
        "    entrypoint_agent = ConversableAgent(name=\"Supervisor\",\n",
        "                                        human_input_mode=\"NEVER\",\n",
        "                                        system_message=entrypoint_agent_system_message,\n",
        "                                        llm_config=llm_config,\n",
        "                                        code_execution_config=False)\n",
        "\n",
        "    data_fetch_agent = UserProxyAgent(name=\"Data Fetcher\",\n",
        "                                        system_message=data_fetch_agent_system_message,\n",
        "                                        llm_config=False,\n",
        "                                        human_input_mode=\"NEVER\",\n",
        "                                        code_execution_config = {\"use_docker\": False})\n",
        "\n",
        "    review_agent = ConversableAgent(name=\"Review Retriever\",\n",
        "                                    system_message=review_agent_system_massage,\n",
        "                                    llm_config=llm_config,\n",
        "                                    human_input_mode=\"NEVER\",\n",
        "                                    code_execution_config=False)\n",
        "\n",
        "    score_agent = ConversableAgent(name = \"Score Calculator\",\n",
        "                                   system_message=score_agent_system_message,\n",
        "                                   llm_config=False,\n",
        "                                   human_input_mode=\"NEVER\",\n",
        "                                   code_execution_config = {\"use_docker\": False})\n",
        "\n",
        "    # ------------------------------------------------ Register the function to the two agents ----------------------------------------------#\n",
        "\n",
        "\n",
        "    register_function(fetch_restaurant_data,\n",
        "        caller=entrypoint_agent,  # The assistant agent can suggest calls to the calculator.\n",
        "        executor=data_fetch_agent,  # The user proxy agent can execute the calculator calls.\n",
        "        name=\"fetch_restaurant_data\",  # By default, the function name is used as the tool name.\n",
        "        description=\"Fetches the reviews for a specific restaurant.\")  # A description of the tool.)\n",
        "\n",
        "    register_function(calculate_overall_score,\n",
        "        caller=review_agent,  # The assistant agent can suggest calls to the calculator.\n",
        "        executor=score_agent,  # The user proxy agent can execute the calculator calls.\n",
        "        name=\"calculate_overall_score\",  # By default, the function name is used as the tool name.\n",
        "        description=\"Calculate restaurants's overall scores based on food scores and customer service scores\")  # A description of the tool.)\"\"\"\n",
        "\n",
        "\n",
        "    #--------------------------------------------------------------- GROUPCHAT -----------------------------------------------------#\n",
        "\n",
        "    groupchat = GroupChat(\n",
        "        agents=[initializer, entrypoint_agent, data_fetch_agent, review_agent, score_agent],\n",
        "        messages=[],\n",
        "        max_round=20,\n",
        "        allowed_or_disallowed_speaker_transitions={\n",
        "        initializer: [entrypoint_agent],\n",
        "        entrypoint_agent: [data_fetch_agent],\n",
        "        data_fetch_agent: [review_agent],\n",
        "        review_agent: [score_agent]},\n",
        "        speaker_transitions_type='allowed',\n",
        "        send_introductions=True)\n",
        "\n",
        "    manager = GroupChatManager(groupchat=groupchat, llm_config=llm_config)\n",
        "    result = initializer.initiate_chat(manager, message=user_query)\n",
        "\n",
        "    return result"
      ],
      "metadata": {
        "id": "D6Q-cDl3qVpX"
      },
      "execution_count": 15,
      "outputs": []
    },
    {
      "cell_type": "code",
      "source": [
        "# DO NOT modify this code below.\n",
        "if __name__ == \"__main__\":\n",
        "    assert len(sys.argv) > 1, \"Please ensure you include a query for some restaurant when executing main.\"\n",
        "    #main(sys.argv[1])\n",
        "    main(\"What is the overall score for Taco Bell?\")"
      ],
      "metadata": {
        "colab": {
          "base_uri": "https://localhost:8080/"
        },
        "id": "1gHtaGzT8gpL",
        "outputId": "2f8c98bd-d3f0-473f-ea56-7b9d715ea04f"
      },
      "execution_count": 16,
      "outputs": [
        {
          "output_type": "stream",
          "name": "stdout",
          "text": [
            "[autogen.oai.client: 10-28 20:44:32] {184} WARNING - The API key specified is not a valid OpenAI format; it won't work with the OpenAI-hosted model.\n"
          ]
        },
        {
          "output_type": "stream",
          "name": "stderr",
          "text": [
            "WARNING:autogen.oai.client:The API key specified is not a valid OpenAI format; it won't work with the OpenAI-hosted model.\n"
          ]
        },
        {
          "output_type": "stream",
          "name": "stdout",
          "text": [
            "[autogen.oai.client: 10-28 20:44:32] {184} WARNING - The API key specified is not a valid OpenAI format; it won't work with the OpenAI-hosted model.\n"
          ]
        },
        {
          "output_type": "stream",
          "name": "stderr",
          "text": [
            "WARNING:autogen.oai.client:The API key specified is not a valid OpenAI format; it won't work with the OpenAI-hosted model.\n"
          ]
        },
        {
          "output_type": "stream",
          "name": "stdout",
          "text": [
            "[autogen.oai.client: 10-28 20:44:32] {184} WARNING - The API key specified is not a valid OpenAI format; it won't work with the OpenAI-hosted model.\n"
          ]
        },
        {
          "output_type": "stream",
          "name": "stderr",
          "text": [
            "WARNING:autogen.oai.client:The API key specified is not a valid OpenAI format; it won't work with the OpenAI-hosted model.\n"
          ]
        },
        {
          "output_type": "stream",
          "name": "stdout",
          "text": [
            "[autogen.oai.client: 10-28 20:44:32] {184} WARNING - The API key specified is not a valid OpenAI format; it won't work with the OpenAI-hosted model.\n"
          ]
        },
        {
          "output_type": "stream",
          "name": "stderr",
          "text": [
            "WARNING:autogen.oai.client:The API key specified is not a valid OpenAI format; it won't work with the OpenAI-hosted model.\n"
          ]
        },
        {
          "output_type": "stream",
          "name": "stdout",
          "text": [
            "[autogen.oai.client: 10-28 20:44:32] {184} WARNING - The API key specified is not a valid OpenAI format; it won't work with the OpenAI-hosted model.\n"
          ]
        },
        {
          "output_type": "stream",
          "name": "stderr",
          "text": [
            "WARNING:autogen.oai.client:The API key specified is not a valid OpenAI format; it won't work with the OpenAI-hosted model.\n"
          ]
        },
        {
          "output_type": "stream",
          "name": "stdout",
          "text": [
            "Init (to chat_manager):\n",
            "\n",
            "What is the overall score for Taco Bell?\n",
            "\n",
            "--------------------------------------------------------------------------------\n",
            "\n",
            "Next speaker: Supervisor\n",
            "\n",
            "Supervisor (to chat_manager):\n",
            "\n",
            "***** Suggested tool call (call_M6QNnqGXaQu8nAds5s7iPKO8): fetch_restaurant_data *****\n",
            "Arguments: \n",
            "{\"restaurant_name\":\"taco bell\"}\n",
            "**************************************************************************************\n",
            "\n",
            "--------------------------------------------------------------------------------\n",
            "\n",
            "Next speaker: Data Fetcher\n",
            "\n",
            "\n",
            ">>>>>>>> EXECUTING FUNCTION fetch_restaurant_data...\n",
            "Data Fetcher (to chat_manager):\n",
            "\n",
            "Data Fetcher (to chat_manager):\n",
            "\n",
            "***** Response from calling tool (call_M6QNnqGXaQu8nAds5s7iPKO8) *****\n",
            "{\"Taco Bell\": [\"The food at Taco Bell was bad, with flavors that seemed artificial. The customer service was average, neither particularly helpful nor rude.\", \"The food was bad, with flavors that were off and textures that were strange. The service was average, neither particularly good nor terrible.\", \"The food was bad and left me feeling queasy. The customer service was forgettable, neither good nor terrible.\", \"The food at Taco Bell was bad, with flavors that seemed artificial and unappealing. The service was average, neither particularly good nor terrible.\", \"The food was bad, but the service was average. The tacos were unpleasant and lacked flavor, though the staff was polite enough.\", \"The food at Taco Bell was bad, with flavors that seemed artificial. The service was average, neither impressive nor terrible.\", \"The food at Taco Bell was bad, with flavors that felt artificial and unappetizing. The customer service was average, neither adding to nor detracting from the experience.\", \"The food at Taco Bell was bad, with bland flavors and questionable quality. The customer service was average, neither particularly helpful nor offensive.\", \"The food at Taco Bell was bad, with flavors that seemed artificial and unappealing. The customer service was average, neither particularly good nor notably poor.\", \"The food at Taco Bell was bad, with items tasting stale and lukewarm. Customer service was average, neither impressive nor terrible.\", \"The food at Taco Bell was bad, with flavors that seemed artificial and unappealing. The service was average, but couldn't make up for the disappointing meal.\", \"The food at Taco Bell was bad, with greasy and unappetizing options. Customer service was uninspiring, neither particularly good nor terrible.\", \"The food at Taco Bell was bad, lacking in flavor and freshness. The customer service was uninspiring, neither terrible nor impressive.\", \"The food at Taco Bell was bad, with flavors that didn't quite hit the mark. The customer service was average, neither impressive nor terrible.\", \"The food at Taco Bell was bad, with soggy tacos and bland flavors. The customer service was average, but couldn't make up for the offensive quality of the food.\", \"The food at Taco Bell was bad, lacking in flavor and quality. The customer service was average, neither impressive nor terrible.\", \"The food was bad, with soggy tacos and bland flavors. The service was uninspiring, neither terrible nor impressive.\", \"The food was bad, with soggy tacos and bland flavors. The service was average, but couldn't make up for the disappointing meal.\", \"The food at Taco Bell was bad, with questionable quality and taste. The customer service was average, neither impressive nor terrible.\", \"The food at Taco Bell was bad, lacking in flavor and quality. The customer service was average, neither impressive nor particularly disappointing.\", \"The food at Taco Bell was bad, with questionable quality ingredients. The customer service was average, but couldn't make up for the offensive taste of the food.\", \"The food at Taco Bell was surprisingly enjoyable, with tasty tacos and burritos. The customer service was average, with a bit of a wait during peak hours.\", \"The food at Taco Bell was bad, with flavors that seemed artificial and unappealing. The customer service was average, neither impressive nor terrible.\", \"The food at Taco Bell was bad, lacking in flavor and quality. The customer service was average, but couldn't make up for the unpleasant dining experience.\", \"The food at Taco Bell was bad, with questionable quality and taste. The customer service was uninspiring, neither terrible nor impressive.\", \"The food at Taco Bell was bad, lacking in flavor and quality. The customer service was uninspiring, neither terrible nor impressive.\", \"The food at Taco Bell was bad, with bland flavors and questionable quality. The service was average, neither impressive nor terrible.\", \"The food at Taco Bell was bad, lacking in flavor and quality. The customer service was uninspiring, neither particularly good nor terrible.\", \"The food at Taco Bell was bad, with soggy tacos and bland flavors. Customer service was uninspiring, neither good nor terrible.\", \"The food at Taco Bell was bad, with greasy and unappetizing options. The customer service was average, neither impressive nor terrible.\", \"The food at Taco Bell was bad, with stale tortillas and bland fillings. The customer service was average, but couldn't make up for the unpleasant meal.\", \"The food at Taco Bell was bad, with bland flavors and questionable quality. The service was average, neither impressive nor terrible.\", \"The food at Taco Bell was bad, with greasy and unappetizing options. Customer service was uninspiring, neither particularly good nor terrible.\", \"The food at Taco Bell was bad, with low-quality ingredients and poor taste. The customer service was uninspiring, neither terrible nor impressive.\", \"The food at Taco Bell was bad, with soggy tacos and bland flavors. Customer service was uninspiring, neither terrible nor impressive.\", \"The food at Taco Bell was bad, with flavors that felt artificial and uninspired. The customer service was average, neither notably good nor terrible.\", \"The food at Taco Bell was bad, lacking in flavor and quality. The customer service was average, but couldn't make up for the unpleasant meal.\", \"The food at Taco Bell was bad, with flavors that felt artificial and unappetizing. The customer service was average, neither enhancing nor detracting from the experience.\", \"The food at Taco Bell was bad, with bland flavors and questionable quality. Customer service was average, neither impressive nor terrible.\", \"The food at Taco Bell was surprisingly enjoyable, with tasty and affordable Mexican-inspired dishes. The customer service was average, with some wait times during peak hours.\"]}\n",
            "**********************************************************************\n",
            "\n",
            "--------------------------------------------------------------------------------\n",
            "\n",
            "Next speaker: Review Retriever\n",
            "\n",
            "Review Retriever (to chat_manager):\n",
            "\n",
            "***** Suggested tool call (call_wa6dGKePX3IAiagz4VzahTGP): calculate_overall_score *****\n",
            "Arguments: \n",
            "{\"restaurant_name\":\"Taco Bell\",\"food_scores\":[2,2,2,2,2,2,2,2,2,2,2,2,2,2,2,2,2,2,2,2,2,4,2,2,2,2,2,2,2,2,2,2,2,2,2,2,2,2,2,2,4],\"customer_service_scores\":[3,3,3,3,3,3,3,3,3,3,3,3,3,3,3,3,3,3,3,3,3,3,3,3,3,3,3,3,3,3,3,3,3,3,3,3,3,3,3,3,3]}\n",
            "****************************************************************************************\n",
            "\n",
            "--------------------------------------------------------------------------------\n",
            "\n",
            "Next speaker: Score Calculator\n",
            "\n",
            "\n",
            ">>>>>>>> EXECUTING FUNCTION calculate_overall_score...\n",
            "Score Calculator (to chat_manager):\n",
            "\n",
            "Score Calculator (to chat_manager):\n",
            "\n",
            "***** Response from calling tool (call_wa6dGKePX3IAiagz4VzahTGP) *****\n",
            "{\"Taco Bell\": \"3.250\"}\n",
            "**********************************************************************\n",
            "\n",
            "--------------------------------------------------------------------------------\n"
          ]
        }
      ]
    }
  ]
}