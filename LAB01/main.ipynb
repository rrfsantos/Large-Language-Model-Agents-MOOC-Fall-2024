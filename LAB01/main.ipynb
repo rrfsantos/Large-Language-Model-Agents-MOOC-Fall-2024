{
  "nbformat": 4,
  "nbformat_minor": 0,
  "metadata": {
    "colab": {
      "provenance": [],
      "authorship_tag": "ABX9TyOpKQMztiuA79tySGgTwE8B",
      "include_colab_link": true
    },
    "kernelspec": {
      "name": "python3",
      "display_name": "Python 3"
    },
    "language_info": {
      "name": "python"
    }
  },
  "cells": [
    {
      "cell_type": "markdown",
      "metadata": {
        "id": "view-in-github",
        "colab_type": "text"
      },
      "source": [
        "<a href=\"https://colab.research.google.com/github/rrfsantos/Large-Language-Model-Agents-MOOC-Fall-2024/blob/main/LAB01/main.ipynb\" target=\"_parent\"><img src=\"https://colab.research.google.com/assets/colab-badge.svg\" alt=\"Open In Colab\"/></a>"
      ]
    },
    {
      "cell_type": "code",
      "source": [
        "from google.colab import drive\n",
        "drive.mount('/content/drive')"
      ],
      "metadata": {
        "colab": {
          "base_uri": "https://localhost:8080/"
        },
        "id": "o5-N9WOS7KyQ",
        "outputId": "eefc2b47-20d2-43eb-cac3-fb2f923ce601"
      },
      "execution_count": 1,
      "outputs": [
        {
          "output_type": "stream",
          "name": "stdout",
          "text": [
            "Drive already mounted at /content/drive; to attempt to forcibly remount, call drive.mount(\"/content/drive\", force_remount=True).\n"
          ]
        }
      ]
    },
    {
      "cell_type": "code",
      "source": [
        "!pip install -r /content/drive/MyDrive/LLM-Lab1/requirements.txt"
      ],
      "metadata": {
        "id": "IInZcOEe7LlL"
      },
      "execution_count": null,
      "outputs": []
    },
    {
      "cell_type": "code",
      "source": [
        "# -*- coding: utf-8 -*-\n",
        "from autogen import ConversableAgent, UserProxyAgent, GroupChat, GroupChatManager, register_function\n",
        "from numpy import sqrt\n",
        "from typing import Dict, List\n",
        "import sys\n",
        "import os\n",
        "from dotenv import load_dotenv\n",
        "import re\n",
        "\n",
        "# Load environment variables from .env file\n",
        "load_dotenv()\n",
        "\n",
        "\n",
        "import warnings\n",
        "warnings.simplefilter(action='ignore', category=FutureWarning)"
      ],
      "metadata": {
        "id": "lFkoT44i8Fh1"
      },
      "execution_count": null,
      "outputs": []
    },
    {
      "cell_type": "code",
      "source": [
        "#--------------------------------------------------------- AGENT FUNCTIONS ------------------------------------------------------------#"
      ],
      "metadata": {
        "id": "IcXcjc6M7XIv"
      },
      "execution_count": 4,
      "outputs": []
    },
    {
      "cell_type": "code",
      "source": [
        "def normalize_name(name: str) -> str:\n",
        "    # Remove special characters and convert to lowercase\n",
        "    return re.sub(r'[^a-zA-Z0-9]', '', name).lower()\n",
        "\n",
        "def fetch_restaurant_data(restaurant_name: str) -> Dict[str, List[str]]:\n",
        "    normalized_input_name = normalize_name(restaurant_name)\n",
        "    restaurant_reviews = {}\n",
        "    original_names = {}\n",
        "\n",
        "    with open('/content/drive/MyDrive/LLM-Lab1/restaurant-data.txt', 'r') as file:\n",
        "        for line in file:\n",
        "            name, review = line.split('. ', 1)\n",
        "            name = name.strip()\n",
        "            review = review.strip()\n",
        "            normalized_name = normalize_name(name)\n",
        "            if normalized_name not in restaurant_reviews:\n",
        "                restaurant_reviews[normalized_name] = []\n",
        "                original_names[normalized_name] = name\n",
        "            restaurant_reviews[normalized_name].append(review)\n",
        "\n",
        "    true_name = original_names.get(normalized_input_name, restaurant_name)\n",
        "    return {true_name: restaurant_reviews.get(normalized_input_name, [])}\n",
        "\n",
        "fetch_restaurant_data(\"Taco bell\")"
      ],
      "metadata": {
        "id": "BZTNo15Y8dCh",
        "colab": {
          "base_uri": "https://localhost:8080/"
        },
        "outputId": "fd8bc17e-9814-4f5a-8ec2-ca5842697a02"
      },
      "execution_count": 5,
      "outputs": [
        {
          "output_type": "execute_result",
          "data": {
            "text/plain": [
              "{'Taco Bell': ['The food at Taco Bell was bad, with flavors that seemed artificial. The customer service was average, neither particularly helpful nor rude.',\n",
              "  'The food was bad, with flavors that were off and textures that were strange. The service was average, neither particularly good nor terrible.',\n",
              "  'The food was bad and left me feeling queasy. The customer service was forgettable, neither good nor terrible.',\n",
              "  'The food at Taco Bell was bad, with flavors that seemed artificial and unappealing. The service was average, neither particularly good nor terrible.',\n",
              "  'The food was bad, but the service was average. The tacos were unpleasant and lacked flavor, though the staff was polite enough.',\n",
              "  'The food at Taco Bell was bad, with flavors that seemed artificial. The service was average, neither impressive nor terrible.',\n",
              "  'The food at Taco Bell was bad, with flavors that felt artificial and unappetizing. The customer service was average, neither adding to nor detracting from the experience.',\n",
              "  'The food at Taco Bell was bad, with bland flavors and questionable quality. The customer service was average, neither particularly helpful nor offensive.',\n",
              "  'The food at Taco Bell was bad, with flavors that seemed artificial and unappealing. The customer service was average, neither particularly good nor notably poor.',\n",
              "  'The food at Taco Bell was bad, with items tasting stale and lukewarm. Customer service was average, neither impressive nor terrible.',\n",
              "  \"The food at Taco Bell was bad, with flavors that seemed artificial and unappealing. The service was average, but couldn't make up for the disappointing meal.\",\n",
              "  'The food at Taco Bell was bad, with greasy and unappetizing options. Customer service was uninspiring, neither particularly good nor terrible.',\n",
              "  'The food at Taco Bell was bad, lacking in flavor and freshness. The customer service was uninspiring, neither terrible nor impressive.',\n",
              "  \"The food at Taco Bell was bad, with flavors that didn't quite hit the mark. The customer service was average, neither impressive nor terrible.\",\n",
              "  \"The food at Taco Bell was bad, with soggy tacos and bland flavors. The customer service was average, but couldn't make up for the offensive quality of the food.\",\n",
              "  'The food at Taco Bell was bad, lacking in flavor and quality. The customer service was average, neither impressive nor terrible.',\n",
              "  'The food was bad, with soggy tacos and bland flavors. The service was uninspiring, neither terrible nor impressive.',\n",
              "  \"The food was bad, with soggy tacos and bland flavors. The service was average, but couldn't make up for the disappointing meal.\",\n",
              "  'The food at Taco Bell was bad, with questionable quality and taste. The customer service was average, neither impressive nor terrible.',\n",
              "  'The food at Taco Bell was bad, lacking in flavor and quality. The customer service was average, neither impressive nor particularly disappointing.',\n",
              "  \"The food at Taco Bell was bad, with questionable quality ingredients. The customer service was average, but couldn't make up for the offensive taste of the food.\",\n",
              "  'The food at Taco Bell was surprisingly enjoyable, with tasty tacos and burritos. The customer service was average, with a bit of a wait during peak hours.',\n",
              "  'The food at Taco Bell was bad, with flavors that seemed artificial and unappealing. The customer service was average, neither impressive nor terrible.',\n",
              "  \"The food at Taco Bell was bad, lacking in flavor and quality. The customer service was average, but couldn't make up for the unpleasant dining experience.\",\n",
              "  'The food at Taco Bell was bad, with questionable quality and taste. The customer service was uninspiring, neither terrible nor impressive.',\n",
              "  'The food at Taco Bell was bad, lacking in flavor and quality. The customer service was uninspiring, neither terrible nor impressive.',\n",
              "  'The food at Taco Bell was bad, with bland flavors and questionable quality. The service was average, neither impressive nor terrible.',\n",
              "  'The food at Taco Bell was bad, lacking in flavor and quality. The customer service was uninspiring, neither particularly good nor terrible.',\n",
              "  'The food at Taco Bell was bad, with soggy tacos and bland flavors. Customer service was uninspiring, neither good nor terrible.',\n",
              "  'The food at Taco Bell was bad, with greasy and unappetizing options. The customer service was average, neither impressive nor terrible.',\n",
              "  \"The food at Taco Bell was bad, with stale tortillas and bland fillings. The customer service was average, but couldn't make up for the unpleasant meal.\",\n",
              "  'The food at Taco Bell was bad, with bland flavors and questionable quality. The service was average, neither impressive nor terrible.',\n",
              "  'The food at Taco Bell was bad, with greasy and unappetizing options. Customer service was uninspiring, neither particularly good nor terrible.',\n",
              "  'The food at Taco Bell was bad, with low-quality ingredients and poor taste. The customer service was uninspiring, neither terrible nor impressive.',\n",
              "  'The food at Taco Bell was bad, with soggy tacos and bland flavors. Customer service was uninspiring, neither terrible nor impressive.',\n",
              "  'The food at Taco Bell was bad, with flavors that felt artificial and uninspired. The customer service was average, neither notably good nor terrible.',\n",
              "  \"The food at Taco Bell was bad, lacking in flavor and quality. The customer service was average, but couldn't make up for the unpleasant meal.\",\n",
              "  'The food at Taco Bell was bad, with flavors that felt artificial and unappetizing. The customer service was average, neither enhancing nor detracting from the experience.',\n",
              "  'The food at Taco Bell was bad, with bland flavors and questionable quality. Customer service was average, neither impressive nor terrible.',\n",
              "  'The food at Taco Bell was surprisingly enjoyable, with tasty and affordable Mexican-inspired dishes. The customer service was average, with some wait times during peak hours.']}"
            ]
          },
          "metadata": {},
          "execution_count": 5
        }
      ]
    },
    {
      "cell_type": "code",
      "source": [
        "def calculate_overall_score(restaurant_name: str, food_scores: List[int], customer_service_scores: List[int]) -> Dict[str, float]:\n",
        "    if len(food_scores) != len(customer_service_scores):\n",
        "        raise ValueError(\"The length of food_scores and customer_service_scores must be the same.\")\n",
        "\n",
        "    N = len(food_scores)\n",
        "    total_score = 0.0\n",
        "    geometric_mean = 0.0\n",
        "\n",
        "    for i in range(N):\n",
        "        geometric_mean = sqrt(food_scores[i]**2 * customer_service_scores[i])\n",
        "        total_score += geometric_mean\n",
        "\n",
        "    overall_score = (total_score / (N * sqrt(125))) * 10\n",
        "\n",
        "    return {restaurant_name: \"{:.3f}\".format(overall_score)}"
      ],
      "metadata": {
        "id": "-TjFgno-8q86"
      },
      "execution_count": 6,
      "outputs": []
    },
    {
      "cell_type": "code",
      "source": [
        "#------------------------------------------------------------ MAIN FUNCTION --------------------------------------------------------#"
      ],
      "metadata": {
        "id": "HP_sN_vi7jQz"
      },
      "execution_count": 7,
      "outputs": []
    },
    {
      "cell_type": "code",
      "source": [
        "# Defina a chave da API como variável de ambiente\n",
        "os.environ[\"OPENAI_API_KEY\"] ="
      ],
      "metadata": {
        "id": "mz3bJ8jZJJiK"
      },
      "execution_count": 8,
      "outputs": []
    },
    {
      "cell_type": "code",
      "source": [
        "def main(user_query: str):\n",
        "\n",
        "    # Load environment variables from .env file\n",
        "    llm_config = {\"config_list\": [{\"model\": \"gpt-4o\", \"api_key\" : os.getenv(\"OPENAI_API_KEY\")}]}\n",
        "\n",
        "# ------------------------------------------------------- AGENT'S SYSTEM MESSAGE ----------------------------------------------------#\n",
        "\n",
        "    entrypoint_agent_system_message = \"\"\"Analyze the user query {user_query} and use your knowlegde to promptly return the restaurant name in lowercase.\n",
        "    Send the restaurant name to Data Fetcher\"\"\"\n",
        "\n",
        "    data_fetch_agent_system_message = \"\"\" The Data Fetcher.\n",
        "        Solve the task using the python function fetch_restaurant_data. You use the fetch_restaurant_data function exclusively.\n",
        "        1. Use the correct restaurant name as input for the fetch_restaurant_data function.\n",
        "        2. Stop the search as soon as you find the correct match name in the file object.\n",
        "        3. Your final message must be the output containing correct restaurant's reviews generated by fetch_restaurant_data\n",
        "        function in the format -> Dict[str, List[str]].\n",
        "        4. Send the output to Review retriever.\n",
        "        \"\"\"\n",
        "\n",
        "    review_agent_system_massage = \"\"\" The Review Retriever.\n",
        "        Analyze the reviews for the restaurant. You must find two scores: `food_scores` rates the food quality from 1 to 5, and `customer_service_scores` rates the customer service quality from 1 to 5.\n",
        "        You should find these scores by looking for specific words in the review. Each review has words that match the scores for `food_score` and `customer_service_scores`.\n",
        "        These are the words to look for:\n",
        "          - Score 1/5: awful, horrible, or disgusting\n",
        "          - Score 2/5: bad, unpleasant, or offensive\n",
        "          - Score 3/5: average, uninspiring, or forgettable\n",
        "          - Score 4/5: good, enjoyable, or satisfying\n",
        "          - Score 5/5: awesome, incredible, or amazing\n",
        "\n",
        "          Each review will have exactly two of these words, one for the food and one for the customer service.\n",
        "          Important:The score (N/5) is only based on these words. No other factors should determine the score.\n",
        "          Generate two list food_scores, customer_service_scores.\n",
        "          Ensure the following:\n",
        "          - The lists must have the same length.\n",
        "          - Each review has exactly two scores: one food score and one customer service score.\n",
        "          - The number of food and customer service scores must exactly match the number of reviews.\n",
        "          - You must score all the reviews.\n",
        "\n",
        "        **** Is mandatory to send the information to the Scoring Calculator with the format below:\n",
        "            Arguments: {restaurant_name: str, food_scores: List[int], customer_service_scores: List[int]} ****\n",
        "        \"\"\"\n",
        "\n",
        "    score_agent_system_message = \"\"\" The Score Calculator.\n",
        "        Solve the task using the python function calculate_overall_score.\n",
        "        You use the calculate_overall_score function exclusively.\n",
        "        Your last message MUST have the format: {restaurant_name: round(overall_score, 3)} --->>>>\n",
        "        \"\"\"\n",
        "\n",
        "    #-------------------------------------------------- AGENT'S CONFIGURATION ------------------------------------------------------#\n",
        "\n",
        "    initializer = ConversableAgent(name=\"Init\",\n",
        "                                   human_input_mode=\"NEVER\",\n",
        "                                   code_execution_config=False)\n",
        "\n",
        "    entrypoint_agent = ConversableAgent(name=\"Supervisor\",\n",
        "                                        human_input_mode=\"NEVER\",\n",
        "                                        system_message=entrypoint_agent_system_message,\n",
        "                                        llm_config=llm_config,\n",
        "                                        code_execution_config=False)\n",
        "\n",
        "    data_fetch_agent = UserProxyAgent(name=\"Data Fetcher\",\n",
        "                                        system_message=data_fetch_agent_system_message,\n",
        "                                        llm_config=False,\n",
        "                                        human_input_mode=\"NEVER\",\n",
        "                                        code_execution_config = {\"use_docker\": False})\n",
        "\n",
        "    review_agent = ConversableAgent(name=\"Review Retriever\",\n",
        "                                    system_message=review_agent_system_massage,\n",
        "                                    llm_config=llm_config,\n",
        "                                    human_input_mode=\"NEVER\",\n",
        "                                    code_execution_config=False)\n",
        "\n",
        "    score_agent = ConversableAgent(name = \"Score Calculator\",\n",
        "                                   system_message=score_agent_system_message,\n",
        "                                   llm_config=False,\n",
        "                                   human_input_mode=\"NEVER\",\n",
        "                                   code_execution_config = {\"use_docker\": False})\n",
        "\n",
        "    # ------------------------------------------------ Register the function to the two agents ----------------------------------------------#\n",
        "\n",
        "\n",
        "    register_function(fetch_restaurant_data,\n",
        "        caller=entrypoint_agent,  # The assistant agent can suggest calls to the calculator.\n",
        "        executor=data_fetch_agent,  # The user proxy agent can execute the calculator calls.\n",
        "        name=\"fetch_restaurant_data\",  # By default, the function name is used as the tool name.\n",
        "        description=\"Fetches the reviews for a specific restaurant.\")  # A description of the tool.)\n",
        "\n",
        "    register_function(calculate_overall_score,\n",
        "        caller=review_agent,  # The assistant agent can suggest calls to the calculator.\n",
        "        executor=score_agent,  # The user proxy agent can execute the calculator calls.\n",
        "        name=\"calculate_overall_score\",  # By default, the function name is used as the tool name.\n",
        "        description=\"Calculate restaurants's overall scores based on food scores and customer service scores\")  # A description of the tool.)\"\"\"\n",
        "\n",
        "\n",
        "    # -------------------------------------------------------- STATEFLOW ---------------------------------------------------------------#\n",
        "\n",
        "    def state_transition(last_speaker, groupchat):\n",
        "\n",
        "\n",
        "      if last_speaker is initializer:\n",
        "          # init -> retrieve\n",
        "          return entrypoint_agent\n",
        "      elif last_speaker is entrypoint_agent:\n",
        "          # retrieve: action 1 -> action 2\n",
        "          return data_fetch_agent\n",
        "      elif last_speaker is data_fetch_agent:\n",
        "          return review_agent\n",
        "      elif last_speaker is review_agent:\n",
        "          return score_agent\n",
        "              # retrieve --(execution failed)--> retrieve\n",
        "\n",
        "\n",
        "    #--------------------------------------------------------------- GROUPCHAT -----------------------------------------------------#\n",
        "\n",
        "    groupchat = GroupChat(\n",
        "        agents=[initializer, entrypoint_agent, data_fetch_agent, review_agent, score_agent],\n",
        "        messages=[],\n",
        "        max_round=20,\n",
        "        speaker_selection_method = state_transition,\n",
        "        send_introductions=True,\n",
        "        allow_repeat_speaker=True)\n",
        "\n",
        "    manager = GroupChatManager(groupchat=groupchat, llm_config=llm_config)\n",
        "    result = initializer.initiate_chat(manager, message=user_query)\n",
        "\n",
        "    return result"
      ],
      "metadata": {
        "id": "D6Q-cDl3qVpX"
      },
      "execution_count": 9,
      "outputs": []
    },
    {
      "cell_type": "code",
      "source": [
        "# DO NOT modify this code below.\n",
        "if __name__ == \"__main__\":\n",
        "    assert len(sys.argv) > 1, \"Please ensure you include a query for some restaurant when executing main.\"\n",
        "    #main(sys.argv[1])\n",
        "    main(\"What is the overall score for Taco Bell?\")"
      ],
      "metadata": {
        "colab": {
          "base_uri": "https://localhost:8080/"
        },
        "id": "1gHtaGzT8gpL",
        "outputId": "31cc35d2-77c4-4037-937b-115fcddd9c19"
      },
      "execution_count": 10,
      "outputs": [
        {
          "output_type": "stream",
          "name": "stdout",
          "text": [
            "[autogen.oai.client: 10-23 23:21:51] {184} WARNING - The API key specified is not a valid OpenAI format; it won't work with the OpenAI-hosted model.\n"
          ]
        },
        {
          "output_type": "stream",
          "name": "stderr",
          "text": [
            "WARNING:autogen.oai.client:The API key specified is not a valid OpenAI format; it won't work with the OpenAI-hosted model.\n"
          ]
        },
        {
          "output_type": "stream",
          "name": "stdout",
          "text": [
            "[autogen.oai.client: 10-23 23:21:52] {184} WARNING - The API key specified is not a valid OpenAI format; it won't work with the OpenAI-hosted model.\n"
          ]
        },
        {
          "output_type": "stream",
          "name": "stderr",
          "text": [
            "WARNING:autogen.oai.client:The API key specified is not a valid OpenAI format; it won't work with the OpenAI-hosted model.\n"
          ]
        },
        {
          "output_type": "stream",
          "name": "stdout",
          "text": [
            "[autogen.oai.client: 10-23 23:21:52] {184} WARNING - The API key specified is not a valid OpenAI format; it won't work with the OpenAI-hosted model.\n"
          ]
        },
        {
          "output_type": "stream",
          "name": "stderr",
          "text": [
            "WARNING:autogen.oai.client:The API key specified is not a valid OpenAI format; it won't work with the OpenAI-hosted model.\n"
          ]
        },
        {
          "output_type": "stream",
          "name": "stdout",
          "text": [
            "[autogen.oai.client: 10-23 23:21:52] {184} WARNING - The API key specified is not a valid OpenAI format; it won't work with the OpenAI-hosted model.\n"
          ]
        },
        {
          "output_type": "stream",
          "name": "stderr",
          "text": [
            "WARNING:autogen.oai.client:The API key specified is not a valid OpenAI format; it won't work with the OpenAI-hosted model.\n"
          ]
        },
        {
          "output_type": "stream",
          "name": "stdout",
          "text": [
            "[autogen.oai.client: 10-23 23:21:52] {184} WARNING - The API key specified is not a valid OpenAI format; it won't work with the OpenAI-hosted model.\n"
          ]
        },
        {
          "output_type": "stream",
          "name": "stderr",
          "text": [
            "WARNING:autogen.oai.client:The API key specified is not a valid OpenAI format; it won't work with the OpenAI-hosted model.\n"
          ]
        },
        {
          "output_type": "stream",
          "name": "stdout",
          "text": [
            "Init (to chat_manager):\n",
            "\n",
            "What is the overall score for Taco Bell?\n",
            "\n",
            "--------------------------------------------------------------------------------\n",
            "\n",
            "Next speaker: Supervisor\n",
            "\n",
            "Supervisor (to chat_manager):\n",
            "\n",
            "***** Suggested tool call (call_iVzEZDygQ8jWZPRuE8GIDynM): fetch_restaurant_data *****\n",
            "Arguments: \n",
            "{\"restaurant_name\":\"taco bell\"}\n",
            "**************************************************************************************\n",
            "\n",
            "--------------------------------------------------------------------------------\n",
            "\n",
            "Next speaker: Data Fetcher\n",
            "\n",
            "\n",
            ">>>>>>>> EXECUTING FUNCTION fetch_restaurant_data...\n",
            "Data Fetcher (to chat_manager):\n",
            "\n",
            "Data Fetcher (to chat_manager):\n",
            "\n",
            "***** Response from calling tool (call_iVzEZDygQ8jWZPRuE8GIDynM) *****\n",
            "{\"Taco Bell\": [\"The food at Taco Bell was bad, with flavors that seemed artificial. The customer service was average, neither particularly helpful nor rude.\", \"The food was bad, with flavors that were off and textures that were strange. The service was average, neither particularly good nor terrible.\", \"The food was bad and left me feeling queasy. The customer service was forgettable, neither good nor terrible.\", \"The food at Taco Bell was bad, with flavors that seemed artificial and unappealing. The service was average, neither particularly good nor terrible.\", \"The food was bad, but the service was average. The tacos were unpleasant and lacked flavor, though the staff was polite enough.\", \"The food at Taco Bell was bad, with flavors that seemed artificial. The service was average, neither impressive nor terrible.\", \"The food at Taco Bell was bad, with flavors that felt artificial and unappetizing. The customer service was average, neither adding to nor detracting from the experience.\", \"The food at Taco Bell was bad, with bland flavors and questionable quality. The customer service was average, neither particularly helpful nor offensive.\", \"The food at Taco Bell was bad, with flavors that seemed artificial and unappealing. The customer service was average, neither particularly good nor notably poor.\", \"The food at Taco Bell was bad, with items tasting stale and lukewarm. Customer service was average, neither impressive nor terrible.\", \"The food at Taco Bell was bad, with flavors that seemed artificial and unappealing. The service was average, but couldn't make up for the disappointing meal.\", \"The food at Taco Bell was bad, with greasy and unappetizing options. Customer service was uninspiring, neither particularly good nor terrible.\", \"The food at Taco Bell was bad, lacking in flavor and freshness. The customer service was uninspiring, neither terrible nor impressive.\", \"The food at Taco Bell was bad, with flavors that didn't quite hit the mark. The customer service was average, neither impressive nor terrible.\", \"The food at Taco Bell was bad, with soggy tacos and bland flavors. The customer service was average, but couldn't make up for the offensive quality of the food.\", \"The food at Taco Bell was bad, lacking in flavor and quality. The customer service was average, neither impressive nor terrible.\", \"The food was bad, with soggy tacos and bland flavors. The service was uninspiring, neither terrible nor impressive.\", \"The food was bad, with soggy tacos and bland flavors. The service was average, but couldn't make up for the disappointing meal.\", \"The food at Taco Bell was bad, with questionable quality and taste. The customer service was average, neither impressive nor terrible.\", \"The food at Taco Bell was bad, lacking in flavor and quality. The customer service was average, neither impressive nor particularly disappointing.\", \"The food at Taco Bell was bad, with questionable quality ingredients. The customer service was average, but couldn't make up for the offensive taste of the food.\", \"The food at Taco Bell was surprisingly enjoyable, with tasty tacos and burritos. The customer service was average, with a bit of a wait during peak hours.\", \"The food at Taco Bell was bad, with flavors that seemed artificial and unappealing. The customer service was average, neither impressive nor terrible.\", \"The food at Taco Bell was bad, lacking in flavor and quality. The customer service was average, but couldn't make up for the unpleasant dining experience.\", \"The food at Taco Bell was bad, with questionable quality and taste. The customer service was uninspiring, neither terrible nor impressive.\", \"The food at Taco Bell was bad, lacking in flavor and quality. The customer service was uninspiring, neither terrible nor impressive.\", \"The food at Taco Bell was bad, with bland flavors and questionable quality. The service was average, neither impressive nor terrible.\", \"The food at Taco Bell was bad, lacking in flavor and quality. The customer service was uninspiring, neither particularly good nor terrible.\", \"The food at Taco Bell was bad, with soggy tacos and bland flavors. Customer service was uninspiring, neither good nor terrible.\", \"The food at Taco Bell was bad, with greasy and unappetizing options. The customer service was average, neither impressive nor terrible.\", \"The food at Taco Bell was bad, with stale tortillas and bland fillings. The customer service was average, but couldn't make up for the unpleasant meal.\", \"The food at Taco Bell was bad, with bland flavors and questionable quality. The service was average, neither impressive nor terrible.\", \"The food at Taco Bell was bad, with greasy and unappetizing options. Customer service was uninspiring, neither particularly good nor terrible.\", \"The food at Taco Bell was bad, with low-quality ingredients and poor taste. The customer service was uninspiring, neither terrible nor impressive.\", \"The food at Taco Bell was bad, with soggy tacos and bland flavors. Customer service was uninspiring, neither terrible nor impressive.\", \"The food at Taco Bell was bad, with flavors that felt artificial and uninspired. The customer service was average, neither notably good nor terrible.\", \"The food at Taco Bell was bad, lacking in flavor and quality. The customer service was average, but couldn't make up for the unpleasant meal.\", \"The food at Taco Bell was bad, with flavors that felt artificial and unappetizing. The customer service was average, neither enhancing nor detracting from the experience.\", \"The food at Taco Bell was bad, with bland flavors and questionable quality. Customer service was average, neither impressive nor terrible.\", \"The food at Taco Bell was surprisingly enjoyable, with tasty and affordable Mexican-inspired dishes. The customer service was average, with some wait times during peak hours.\"]}\n",
            "**********************************************************************\n",
            "\n",
            "--------------------------------------------------------------------------------\n",
            "\n",
            "Next speaker: Review Retriever\n",
            "\n",
            "Review Retriever (to chat_manager):\n",
            "\n",
            "***** Suggested tool call (call_o0sOmtWj6t4a4KnmmmKknXSO): calculate_overall_score *****\n",
            "Arguments: \n",
            "{\"restaurant_name\":\"Taco Bell\",\"food_scores\":[2,2,2,2,2,2,2,2,2,2,2,2,2,2,2,2,2,2,2,2,2,4,2,2,2,2,2,2,2,2,2,2,2,2,2,2,2,2,2,2,4],\"customer_service_scores\":[3,3,3,3,3,3,3,3,3,3,3,3,3,3,3,3,3,3,3,3,3,3,3,3,3,3,3,3,3,3,3,3,3,3,3,3,3,3,3,3,3]}\n",
            "****************************************************************************************\n",
            "\n",
            "--------------------------------------------------------------------------------\n",
            "\n",
            "Next speaker: Score Calculator\n",
            "\n",
            "\n",
            ">>>>>>>> EXECUTING FUNCTION calculate_overall_score...\n",
            "Score Calculator (to chat_manager):\n",
            "\n",
            "Score Calculator (to chat_manager):\n",
            "\n",
            "***** Response from calling tool (call_o0sOmtWj6t4a4KnmmmKknXSO) *****\n",
            "{\"Taco Bell\": \"3.250\"}\n",
            "**********************************************************************\n",
            "\n",
            "--------------------------------------------------------------------------------\n"
          ]
        }
      ]
    }
  ]
}