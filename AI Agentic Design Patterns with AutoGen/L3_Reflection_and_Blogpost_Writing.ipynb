{
  "cells": [
    {
      "cell_type": "markdown",
      "metadata": {
        "id": "view-in-github",
        "colab_type": "text"
      },
      "source": [
        "<a href=\"https://colab.research.google.com/github/rrfsantos/Large-Language-Model-Agents-MOOC-Fall-2024/blob/main/AI%20Agentic%20Design%20Patterns%20with%20AutoGen/L3_Reflection_and_Blogpost_Writing.ipynb\" target=\"_parent\"><img src=\"https://colab.research.google.com/assets/colab-badge.svg\" alt=\"Open In Colab\"/></a>"
      ]
    },
    {
      "cell_type": "markdown",
      "id": "fc3024e2",
      "metadata": {
        "id": "fc3024e2"
      },
      "source": [
        "# Lesson 3: Reflection and Blogpost Writing"
      ]
    },
    {
      "cell_type": "markdown",
      "id": "3b0cc42f",
      "metadata": {
        "id": "3b0cc42f"
      },
      "source": [
        "## Setup"
      ]
    },
    {
      "cell_type": "code",
      "source": [
        "from google.colab import drive\n",
        "drive.mount('/content/drive')"
      ],
      "metadata": {
        "colab": {
          "base_uri": "https://localhost:8080/"
        },
        "id": "CbKjLk4H4rF9",
        "outputId": "e61e056d-b5d7-4e50-e24c-ebf19c21c5f5"
      },
      "id": "CbKjLk4H4rF9",
      "execution_count": 25,
      "outputs": [
        {
          "output_type": "stream",
          "name": "stdout",
          "text": [
            "Drive already mounted at /content/drive; to attempt to forcibly remount, call drive.mount(\"/content/drive\", force_remount=True).\n"
          ]
        }
      ]
    },
    {
      "cell_type": "code",
      "source": [
        "#!pip install -r /content/drive/MyDrive/AutoGen/requirements.txt"
      ],
      "metadata": {
        "id": "at2ky6qn4tvj"
      },
      "id": "at2ky6qn4tvj",
      "execution_count": 26,
      "outputs": []
    },
    {
      "cell_type": "code",
      "source": [
        "from dotenv import load_dotenv\n",
        "import warnings\n",
        "import os\n",
        "from autogen import ConversableAgent, initiate_chats\n",
        "warnings.simplefilter(action='ignore', category=FutureWarning)\n",
        "warnings.simplefilter(action='ignore', category=UserWarning)"
      ],
      "metadata": {
        "id": "1AkkXl6p4yvR"
      },
      "id": "1AkkXl6p4yvR",
      "execution_count": 27,
      "outputs": []
    },
    {
      "cell_type": "code",
      "execution_count": 28,
      "id": "96d39be0-eaf3-456d-8613-ba21099ed36b",
      "metadata": {
        "height": 30,
        "id": "96d39be0-eaf3-456d-8613-ba21099ed36b"
      },
      "outputs": [],
      "source": [
        "# Load environment variables from .env file\n",
        "load_dotenv(\"/content/drive/MyDrive/AutoGen/env\")\n",
        "llm_config = {\"config_list\": [{\"model\": \"gpt-3.5-turbo\", \"api_key\" : os.getenv(\"OPENAI_API_KEY\")}]}"
      ]
    },
    {
      "cell_type": "markdown",
      "id": "0969e6bb",
      "metadata": {
        "id": "0969e6bb"
      },
      "source": [
        "## The task!"
      ]
    },
    {
      "cell_type": "code",
      "execution_count": 29,
      "id": "e8074032-3690-4de9-ad08-ea8323cb441b",
      "metadata": {
        "height": 115,
        "id": "e8074032-3690-4de9-ad08-ea8323cb441b"
      },
      "outputs": [],
      "source": [
        "task = '''\n",
        "        Write a concise but engaging blogpost about\n",
        "       LLM Agents. Make sure the blogpost is\n",
        "       within 100 words.\n",
        "       '''\n"
      ]
    },
    {
      "cell_type": "markdown",
      "id": "1987f023",
      "metadata": {
        "id": "1987f023"
      },
      "source": [
        "## Create a writer agent"
      ]
    },
    {
      "cell_type": "code",
      "execution_count": 30,
      "id": "fe0f0a47-a9fe-43a0-b7b1-79922e4c4ac8",
      "metadata": {
        "height": 198,
        "colab": {
          "base_uri": "https://localhost:8080/"
        },
        "id": "fe0f0a47-a9fe-43a0-b7b1-79922e4c4ac8",
        "outputId": "52e020c5-67f3-4248-a540-89bd3773bb58"
      },
      "outputs": [
        {
          "output_type": "stream",
          "name": "stdout",
          "text": [
            "[autogen.oai.client: 10-28 16:15:39] {129} WARNING - The API key specified is not a valid OpenAI format; it won't work with the OpenAI-hosted model.\n"
          ]
        },
        {
          "output_type": "stream",
          "name": "stderr",
          "text": [
            "WARNING:autogen.oai.client:The API key specified is not a valid OpenAI format; it won't work with the OpenAI-hosted model.\n"
          ]
        }
      ],
      "source": [
        "import autogen\n",
        "\n",
        "writer = autogen.AssistantAgent(\n",
        "    name=\"Writer\",\n",
        "    system_message=\"You are a writer. You write engaging and concise \"\n",
        "        \"blogpost (with title) on given topics. You must polish your \"\n",
        "        \"writing based on the feedback you receive and give a refined \"\n",
        "        \"version. Only return your final work without additional comments.\",\n",
        "    llm_config=llm_config,\n",
        ")"
      ]
    },
    {
      "cell_type": "code",
      "execution_count": 31,
      "id": "7c7b4d8d-40f7-4a05-8958-25d20054de3a",
      "metadata": {
        "height": 45,
        "id": "7c7b4d8d-40f7-4a05-8958-25d20054de3a"
      },
      "outputs": [],
      "source": [
        "reply = writer.generate_reply(messages=[{\"content\": task, \"role\": \"user\"}])"
      ]
    },
    {
      "cell_type": "code",
      "execution_count": 32,
      "id": "c501c97d-e338-4f36-a384-6ec45983cf77",
      "metadata": {
        "height": 30,
        "colab": {
          "base_uri": "https://localhost:8080/"
        },
        "id": "c501c97d-e338-4f36-a384-6ec45983cf77",
        "outputId": "810645f3-88e3-431f-89c3-e84550051694"
      },
      "outputs": [
        {
          "output_type": "stream",
          "name": "stdout",
          "text": [
            "Title: Unveiling the Power of LLM Agents\n",
            "\n",
            "Delving into the world of artificial intelligence, LLM (Large Language Models) agents are taking the tech industry by storm. These advanced AI models are trained to understand and generate human language, revolutionizing how we interact with technology. From smart assistants to content generation, LLM agents are at the forefront of innovation. Their ability to process enormous amounts of data enables them to provide efficient and accurate responses. As we continue to witness their potential unfold, LLM agents are reshaping the way we communicate and engage with the digital world. Exciting times lie ahead as we embrace the era of LLM agents.\n"
          ]
        }
      ],
      "source": [
        "print(reply)"
      ]
    },
    {
      "cell_type": "markdown",
      "id": "49658114",
      "metadata": {
        "id": "49658114"
      },
      "source": [
        "## Adding reflection\n",
        "\n",
        "Create a critic agent to reflect on the work of the writer agent."
      ]
    },
    {
      "cell_type": "code",
      "execution_count": 33,
      "id": "c7fcd1c7-51ec-4915-8e97-bac03565c4c7",
      "metadata": {
        "height": 164,
        "colab": {
          "base_uri": "https://localhost:8080/"
        },
        "id": "c7fcd1c7-51ec-4915-8e97-bac03565c4c7",
        "outputId": "65de563e-651e-444a-a030-3a68201aca32"
      },
      "outputs": [
        {
          "output_type": "stream",
          "name": "stdout",
          "text": [
            "[autogen.oai.client: 10-28 16:15:41] {129} WARNING - The API key specified is not a valid OpenAI format; it won't work with the OpenAI-hosted model.\n"
          ]
        },
        {
          "output_type": "stream",
          "name": "stderr",
          "text": [
            "WARNING:autogen.oai.client:The API key specified is not a valid OpenAI format; it won't work with the OpenAI-hosted model.\n"
          ]
        }
      ],
      "source": [
        "critic = autogen.AssistantAgent(\n",
        "    name=\"Critic\",\n",
        "    is_termination_msg=lambda x: x.get(\"content\", \"\").find(\"TERMINATE\") >= 0,\n",
        "    llm_config=llm_config,\n",
        "    system_message=\"You are a critic. You review the work of \"\n",
        "                \"the writer and provide constructive \"\n",
        "                \"feedback to help improve the quality of the content.\",\n",
        ")"
      ]
    },
    {
      "cell_type": "code",
      "execution_count": 34,
      "id": "899d5fdb-6081-470b-b287-8cf8b8142d0d",
      "metadata": {
        "height": 115,
        "colab": {
          "base_uri": "https://localhost:8080/"
        },
        "id": "899d5fdb-6081-470b-b287-8cf8b8142d0d",
        "outputId": "7dae2839-17d9-4936-a096-3ff64d16e763"
      },
      "outputs": [
        {
          "output_type": "stream",
          "name": "stdout",
          "text": [
            "Critic (to Writer):\n",
            "\n",
            "\n",
            "        Write a concise but engaging blogpost about\n",
            "       LLM Agents. Make sure the blogpost is\n",
            "       within 100 words.\n",
            "       \n",
            "\n",
            "--------------------------------------------------------------------------------\n",
            "Writer (to Critic):\n",
            "\n",
            "Title: Unveiling the Power of LLM Agents\n",
            "\n",
            "Delving into the world of artificial intelligence, LLM (Large Language Models) agents are taking the tech industry by storm. These advanced AI models are trained to understand and generate human language, revolutionizing how we interact with technology. From smart assistants to content generation, LLM agents are at the forefront of innovation. Their ability to process enormous amounts of data enables them to provide efficient and accurate responses. As we continue to witness their potential unfold, LLM agents are reshaping the way we communicate and engage with the digital world. Exciting times lie ahead as we embrace the era of LLM agents.\n",
            "\n",
            "--------------------------------------------------------------------------------\n",
            "Critic (to Writer):\n",
            "\n",
            "This blog post does a great job of introducing the topic of LLM Agents and highlighting their significance in the tech industry. The writing is engaging and sets a positive tone for the reader to explore more about this fascinating technology. To enhance the post, you could consider providing specific examples of LLM agents in action or discussing potential future applications. Additionally, incorporating statistics or case studies could further illustrate the impact of LLM agents. Overall, your writing style is captivating, and with a bit more detail, the post could be even more informative and compelling.\n",
            "\n",
            "--------------------------------------------------------------------------------\n",
            "Writer (to Critic):\n",
            "\n",
            "Title: Unleashing the Potential: The Rise of LLM Agents in Tech\n",
            "\n",
            "Step into the realm of artificial intelligence where LLM (Large Language Models) agents reign supreme. These cutting-edge AI models are transforming the digital landscape with their prowess in understanding and generating human language. From powering virtual assistants to shaping content creation, LLM agents are driving innovation to new heights. By processing vast data sets, they deliver precise and efficient responses, heralding a new era of seamless human-machine interaction. As we witness the evolution of LLM agents, their impact on communication and technology is profound. Embark on this thrilling journey as LLM agents redefine the future of AI integration.\n",
            "\n",
            "--------------------------------------------------------------------------------\n"
          ]
        }
      ],
      "source": [
        "res = critic.initiate_chat(\n",
        "    recipient=writer,\n",
        "    message=task,\n",
        "    max_turns=2,\n",
        "    summary_method=\"last_msg\"\n",
        ")"
      ]
    },
    {
      "cell_type": "markdown",
      "id": "e7b76449",
      "metadata": {
        "id": "e7b76449"
      },
      "source": [
        "## Nested chat"
      ]
    },
    {
      "cell_type": "code",
      "execution_count": 35,
      "id": "401ecf92-63e9-40ff-aeed-1c404352e4ab",
      "metadata": {
        "height": 215,
        "colab": {
          "base_uri": "https://localhost:8080/"
        },
        "id": "401ecf92-63e9-40ff-aeed-1c404352e4ab",
        "outputId": "2d02e16d-c06f-4183-a325-c4e45456d841"
      },
      "outputs": [
        {
          "output_type": "stream",
          "name": "stdout",
          "text": [
            "[autogen.oai.client: 10-28 16:15:45] {129} WARNING - The API key specified is not a valid OpenAI format; it won't work with the OpenAI-hosted model.\n"
          ]
        },
        {
          "output_type": "stream",
          "name": "stderr",
          "text": [
            "WARNING:autogen.oai.client:The API key specified is not a valid OpenAI format; it won't work with the OpenAI-hosted model.\n"
          ]
        }
      ],
      "source": [
        "SEO_reviewer = autogen.AssistantAgent(\n",
        "    name=\"SEO Reviewer\",\n",
        "    llm_config=llm_config,\n",
        "    system_message=\"You are an SEO reviewer, known for \"\n",
        "        \"your ability to optimize content for search engines, \"\n",
        "        \"ensuring that it ranks well and attracts organic traffic. \"\n",
        "        \"Make sure your suggestion is concise (within 3 bullet points), \"\n",
        "        \"concrete and to the point. \"\n",
        "        \"Begin the review by stating your role.\",\n",
        ")\n"
      ]
    },
    {
      "cell_type": "code",
      "execution_count": 36,
      "id": "f85acb81-7ab9-4c84-b8bb-6fbae3dce848",
      "metadata": {
        "height": 198,
        "colab": {
          "base_uri": "https://localhost:8080/"
        },
        "id": "f85acb81-7ab9-4c84-b8bb-6fbae3dce848",
        "outputId": "6299f972-af00-44fe-f105-dc6e97042493"
      },
      "outputs": [
        {
          "output_type": "stream",
          "name": "stdout",
          "text": [
            "[autogen.oai.client: 10-28 16:15:45] {129} WARNING - The API key specified is not a valid OpenAI format; it won't work with the OpenAI-hosted model.\n"
          ]
        },
        {
          "output_type": "stream",
          "name": "stderr",
          "text": [
            "WARNING:autogen.oai.client:The API key specified is not a valid OpenAI format; it won't work with the OpenAI-hosted model.\n"
          ]
        }
      ],
      "source": [
        "legal_reviewer = autogen.AssistantAgent(\n",
        "    name=\"Legal Reviewer\",\n",
        "    llm_config=llm_config,\n",
        "    system_message=\"You are a legal reviewer, known for \"\n",
        "        \"your ability to ensure that content is legally compliant \"\n",
        "        \"and free from any potential legal issues. \"\n",
        "        \"Make sure your suggestion is concise (within 3 bullet points), \"\n",
        "        \"concrete and to the point. \"\n",
        "        \"Begin the review by stating your role.\",\n",
        ")"
      ]
    },
    {
      "cell_type": "code",
      "execution_count": 37,
      "id": "d46a177a-8088-4956-8d2b-3e916b8ca5e9",
      "metadata": {
        "height": 198,
        "colab": {
          "base_uri": "https://localhost:8080/"
        },
        "id": "d46a177a-8088-4956-8d2b-3e916b8ca5e9",
        "outputId": "9d60e8db-62f9-4dcc-ac6e-d2119b606089"
      },
      "outputs": [
        {
          "output_type": "stream",
          "name": "stdout",
          "text": [
            "[autogen.oai.client: 10-28 16:15:45] {129} WARNING - The API key specified is not a valid OpenAI format; it won't work with the OpenAI-hosted model.\n"
          ]
        },
        {
          "output_type": "stream",
          "name": "stderr",
          "text": [
            "WARNING:autogen.oai.client:The API key specified is not a valid OpenAI format; it won't work with the OpenAI-hosted model.\n"
          ]
        }
      ],
      "source": [
        "ethics_reviewer = autogen.AssistantAgent(\n",
        "    name=\"Ethics Reviewer\",\n",
        "    llm_config=llm_config,\n",
        "    system_message=\"You are an ethics reviewer, known for \"\n",
        "        \"your ability to ensure that content is ethically sound \"\n",
        "        \"and free from any potential ethical issues. \"\n",
        "        \"Make sure your suggestion is concise (within 3 bullet points), \"\n",
        "        \"concrete and to the point. \"\n",
        "        \"Begin the review by stating your role. \",\n",
        ")"
      ]
    },
    {
      "cell_type": "code",
      "execution_count": 38,
      "id": "a7b2ad6f-8ba6-436a-9459-14ffbe8a32d3",
      "metadata": {
        "height": 130,
        "colab": {
          "base_uri": "https://localhost:8080/"
        },
        "id": "a7b2ad6f-8ba6-436a-9459-14ffbe8a32d3",
        "outputId": "c0283e33-d932-4d00-fde6-63cc979fd354"
      },
      "outputs": [
        {
          "output_type": "stream",
          "name": "stdout",
          "text": [
            "[autogen.oai.client: 10-28 16:15:45] {129} WARNING - The API key specified is not a valid OpenAI format; it won't work with the OpenAI-hosted model.\n"
          ]
        },
        {
          "output_type": "stream",
          "name": "stderr",
          "text": [
            "WARNING:autogen.oai.client:The API key specified is not a valid OpenAI format; it won't work with the OpenAI-hosted model.\n"
          ]
        }
      ],
      "source": [
        "meta_reviewer = autogen.AssistantAgent(\n",
        "    name=\"Meta Reviewer\",\n",
        "    llm_config=llm_config,\n",
        "    system_message=\"You are a meta reviewer, you aggragate and review \"\n",
        "    \"the work of other reviewers and give a final suggestion on the content.\",\n",
        ")"
      ]
    },
    {
      "cell_type": "markdown",
      "id": "913beca1",
      "metadata": {
        "id": "913beca1"
      },
      "source": [
        "## Orchestrate the nested chats to solve the task"
      ]
    },
    {
      "cell_type": "code",
      "execution_count": 39,
      "id": "a11a70c7-19ca-4e5a-ad3d-f2b481fb5915",
      "metadata": {
        "height": 555,
        "id": "a11a70c7-19ca-4e5a-ad3d-f2b481fb5915"
      },
      "outputs": [],
      "source": [
        "def reflection_message(recipient, messages, sender, config):\n",
        "    return f'''Review the following content.\n",
        "            \\n\\n {recipient.chat_messages_for_summary(sender)[-1]['content']}'''\n",
        "\n",
        "review_chats = [\n",
        "    {\n",
        "     \"recipient\": SEO_reviewer,\n",
        "     \"message\": reflection_message,\n",
        "     \"summary_method\": \"reflection_with_llm\",\n",
        "     \"summary_args\": {\"summary_prompt\" :\n",
        "        \"Return review into as JSON object only:\"\n",
        "        \"{'Reviewer': '', 'Review': ''}. Here Reviewer should be your role\",},\n",
        "     \"max_turns\": 1},\n",
        "    {\n",
        "    \"recipient\": legal_reviewer, \"message\": reflection_message,\n",
        "     \"summary_method\": \"reflection_with_llm\",\n",
        "     \"summary_args\": {\"summary_prompt\" :\n",
        "        \"Return review into as JSON object only:\"\n",
        "        \"{'Reviewer': '', 'Review': ''}.\",},\n",
        "     \"max_turns\": 1},\n",
        "    {\"recipient\": ethics_reviewer, \"message\": reflection_message,\n",
        "     \"summary_method\": \"reflection_with_llm\",\n",
        "     \"summary_args\": {\"summary_prompt\" :\n",
        "        \"Return review into as JSON object only:\"\n",
        "        \"{'reviewer': '', 'review': ''}\",},\n",
        "     \"max_turns\": 1},\n",
        "     {\"recipient\": meta_reviewer,\n",
        "      \"message\": \"Aggregrate feedback from all reviewers and give final suggestions on the writing.\",\n",
        "     \"max_turns\": 1},\n",
        "]\n"
      ]
    },
    {
      "cell_type": "code",
      "execution_count": 40,
      "id": "b3a40b66-5061-460d-ad9d-c0dbcfbba2e9",
      "metadata": {
        "height": 81,
        "id": "b3a40b66-5061-460d-ad9d-c0dbcfbba2e9"
      },
      "outputs": [],
      "source": [
        "critic.register_nested_chats(\n",
        "    review_chats,\n",
        "    trigger=writer,\n",
        ")"
      ]
    },
    {
      "cell_type": "markdown",
      "id": "43b8797d",
      "metadata": {
        "id": "43b8797d"
      },
      "source": [
        "**Note**: You might get a slightly different response than what's shown in the video. Feel free to try different task."
      ]
    },
    {
      "cell_type": "code",
      "execution_count": 41,
      "id": "3b8dcac3-1e72-43b7-9d5a-1be740f6efd5",
      "metadata": {
        "height": 115,
        "colab": {
          "base_uri": "https://localhost:8080/"
        },
        "id": "3b8dcac3-1e72-43b7-9d5a-1be740f6efd5",
        "outputId": "a69d3431-ac01-4ea4-c9d0-d2acdc98144f"
      },
      "outputs": [
        {
          "output_type": "stream",
          "name": "stdout",
          "text": [
            "Critic (to Writer):\n",
            "\n",
            "\n",
            "        Write a concise but engaging blogpost about\n",
            "       LLM Agents. Make sure the blogpost is\n",
            "       within 100 words.\n",
            "       \n",
            "\n",
            "--------------------------------------------------------------------------------\n",
            "Writer (to Critic):\n",
            "\n",
            "Title: Unveiling the Power of LLM Agents\n",
            "\n",
            "Delving into the world of artificial intelligence, LLM (Large Language Models) agents are taking the tech industry by storm. These advanced AI models are trained to understand and generate human language, revolutionizing how we interact with technology. From smart assistants to content generation, LLM agents are at the forefront of innovation. Their ability to process enormous amounts of data enables them to provide efficient and accurate responses. As we continue to witness their potential unfold, LLM agents are reshaping the way we communicate and engage with the digital world. Exciting times lie ahead as we embrace the era of LLM agents.\n",
            "\n",
            "--------------------------------------------------------------------------------\n",
            "\n",
            "********************************************************************************\n",
            "Starting a new chat....\n",
            "\n",
            "********************************************************************************\n",
            "Critic (to SEO Reviewer):\n",
            "\n",
            "Review the following content. \n",
            "            \n",
            "\n",
            " Title: Unveiling the Power of LLM Agents\n",
            "\n",
            "Delving into the world of artificial intelligence, LLM (Large Language Models) agents are taking the tech industry by storm. These advanced AI models are trained to understand and generate human language, revolutionizing how we interact with technology. From smart assistants to content generation, LLM agents are at the forefront of innovation. Their ability to process enormous amounts of data enables them to provide efficient and accurate responses. As we continue to witness their potential unfold, LLM agents are reshaping the way we communicate and engage with the digital world. Exciting times lie ahead as we embrace the era of LLM agents.\n",
            "\n",
            "--------------------------------------------------------------------------------\n",
            "SEO Reviewer (to Critic):\n",
            "\n",
            "As an SEO reviewer, my suggestions for optimizing the content titled \"Unveiling the Power of LLM Agents\" are:\n",
            "\n",
            "1. Utilize specific keywords: Incorporate relevant keywords such as \"LLM agents,\" \"Large Language Models,\" and \"artificial intelligence\" strategically throughout the content to improve visibility in search results.\n",
            "\n",
            "2. Improve meta tags: Enhance the title tag and meta description with the primary keyword to not only accurately represent the content but also attract clicks from search engine users interested in AI and LLM agents.\n",
            "\n",
            "3. Include internal and external links: Link relevant phrases within the content to other reputable sources discussing LLM agents and AI to boost the overall SEO value and credibility of the page.\n",
            "\n",
            "--------------------------------------------------------------------------------\n",
            "\n",
            "********************************************************************************\n",
            "Starting a new chat....\n",
            "\n",
            "********************************************************************************\n",
            "Critic (to Legal Reviewer):\n",
            "\n",
            "Review the following content. \n",
            "            \n",
            "\n",
            " Title: Unveiling the Power of LLM Agents\n",
            "\n",
            "Delving into the world of artificial intelligence, LLM (Large Language Models) agents are taking the tech industry by storm. These advanced AI models are trained to understand and generate human language, revolutionizing how we interact with technology. From smart assistants to content generation, LLM agents are at the forefront of innovation. Their ability to process enormous amounts of data enables them to provide efficient and accurate responses. As we continue to witness their potential unfold, LLM agents are reshaping the way we communicate and engage with the digital world. Exciting times lie ahead as we embrace the era of LLM agents.\n",
            "Context: \n",
            "{'Reviewer': 'SEO Reviewer', 'Review': 'Suggested improvements include incorporating specific keywords, optimizing meta tags with primary keywords, and adding internal and external links to enhance SEO value and credibility.'}\n",
            "\n",
            "--------------------------------------------------------------------------------\n",
            "Legal Reviewer (to Critic):\n",
            "\n",
            "As a legal reviewer, my role is to ensure legal compliance in the content provided. \n",
            "\n",
            "- Ensure that any statements regarding LLM agents' capabilities are factually accurate and supported by reputable sources.\n",
            "- Avoid making any misleading claims about the abilities or impact of LLM agents without proper evidence.\n",
            "- Verify that there are no copyright infringements in the content related to LLM agents.\n",
            "\n",
            "--------------------------------------------------------------------------------\n",
            "\n",
            "********************************************************************************\n",
            "Starting a new chat....\n",
            "\n",
            "********************************************************************************\n",
            "Critic (to Ethics Reviewer):\n",
            "\n",
            "Review the following content. \n",
            "            \n",
            "\n",
            " Title: Unveiling the Power of LLM Agents\n",
            "\n",
            "Delving into the world of artificial intelligence, LLM (Large Language Models) agents are taking the tech industry by storm. These advanced AI models are trained to understand and generate human language, revolutionizing how we interact with technology. From smart assistants to content generation, LLM agents are at the forefront of innovation. Their ability to process enormous amounts of data enables them to provide efficient and accurate responses. As we continue to witness their potential unfold, LLM agents are reshaping the way we communicate and engage with the digital world. Exciting times lie ahead as we embrace the era of LLM agents.\n",
            "Context: \n",
            "{'Reviewer': 'SEO Reviewer', 'Review': 'Suggested improvements include incorporating specific keywords, optimizing meta tags with primary keywords, and adding internal and external links to enhance SEO value and credibility.'}\n",
            "{'Reviewer': 'SEO Reviewer', 'Review': 'Suggested improvements include incorporating specific keywords, optimizing meta tags with primary keywords, and adding internal and external links to enhance SEO value and credibility.'}\n",
            "\n",
            "--------------------------------------------------------------------------------\n",
            "Ethics Reviewer (to Critic):\n",
            "\n",
            "As an ethics reviewer, I would like to provide the following feedback:\n",
            "\n",
            "- Ensure that the content accurately represents the capabilities and limitations of LLM (Large Language Models) agents to avoid misleading or overstating their capabilities.\n",
            "- Consider addressing any potential ethical concerns related to data privacy, bias in AI algorithms, or potential societal implications of widespread use of LLM agents.\n",
            "- Include information on responsible AI usage and guidelines to promote ethical considerations in the development and deployment of LLM agents.\n",
            "\n",
            "--------------------------------------------------------------------------------\n",
            "\n",
            "********************************************************************************\n",
            "Starting a new chat....\n",
            "\n",
            "********************************************************************************\n",
            "Critic (to Meta Reviewer):\n",
            "\n",
            "Aggregrate feedback from all reviewers and give final suggestions on the writing.\n",
            "Context: \n",
            "{'Reviewer': 'SEO Reviewer', 'Review': 'Suggested improvements include incorporating specific keywords, optimizing meta tags with primary keywords, and adding internal and external links to enhance SEO value and credibility.'}\n",
            "{'Reviewer': 'SEO Reviewer', 'Review': 'Suggested improvements include incorporating specific keywords, optimizing meta tags with primary keywords, and adding internal and external links to enhance SEO value and credibility.'}\n",
            "{'reviewer': 'Ethics Reviewer', 'review': 'Ensure that the content accurately represents the capabilities and limitations of LLM (Large Language Models) agents to avoid misleading or overstating their capabilities. Consider addressing any potential ethical concerns related to data privacy, bias in AI algorithms, or potential societal implications of widespread use of LLM agents. Include information on responsible AI usage and guidelines to promote ethical considerations in the development and deployment of LLM agents.'}\n",
            "\n",
            "--------------------------------------------------------------------------------\n",
            "Meta Reviewer (to Critic):\n",
            "\n",
            "Aggregated Feedback:\n",
            "1. The SEO reviewers highlighted the need to incorporate specific keywords, optimize meta tags, and add internal and external links for SEO value.\n",
            "2. The Ethics Reviewer emphasized the importance of accurately representing the capabilities and limitations of LLM agents, addressing ethical concerns related to data privacy, bias in AI algorithms, societal implications, and promoting responsible AI usage.\n",
            "\n",
            "Final Suggestions:\n",
            "1. Focus on implementing SEO suggestions to improve visibility and credibility.\n",
            "2. Ensure the content provides a balanced and accurate representation of LLM agents, addressing ethical considerations and promoting responsible AI usage.\n",
            "3. Consider incorporating guidelines on data privacy, bias mitigation, and societal impact to enhance the ethical framework of the content.\n",
            "\n",
            "Overall, the content should strive for a balance between SEO optimization and ethical considerations to deliver valuable and credible information to the audience.\n",
            "\n",
            "--------------------------------------------------------------------------------\n",
            "Critic (to Writer):\n",
            "\n",
            "Aggregated Feedback:\n",
            "1. The SEO reviewers highlighted the need to incorporate specific keywords, optimize meta tags, and add internal and external links for SEO value.\n",
            "2. The Ethics Reviewer emphasized the importance of accurately representing the capabilities and limitations of LLM agents, addressing ethical concerns related to data privacy, bias in AI algorithms, societal implications, and promoting responsible AI usage.\n",
            "\n",
            "Final Suggestions:\n",
            "1. Focus on implementing SEO suggestions to improve visibility and credibility.\n",
            "2. Ensure the content provides a balanced and accurate representation of LLM agents, addressing ethical considerations and promoting responsible AI usage.\n",
            "3. Consider incorporating guidelines on data privacy, bias mitigation, and societal impact to enhance the ethical framework of the content.\n",
            "\n",
            "Overall, the content should strive for a balance between SEO optimization and ethical considerations to deliver valuable and credible information to the audience.\n",
            "\n",
            "--------------------------------------------------------------------------------\n",
            "Writer (to Critic):\n",
            "\n",
            "Title: Navigating the Impact of LLM Agents: Balancing Innovation and Responsibility\n",
            "\n",
            "Embark on a journey through the frontier of artificial intelligence with LLM (Large Language Models) agents. These cutting-edge AI systems are reshaping the digital landscape, from enhancing user experiences to enabling efficient information processing. As we marvel at their capabilities, it's crucial to understand the ethical implications that accompany this technological advancement. Delve into discussions on data privacy, bias mitigation, and societal consequences to navigate the responsible use of LLM agents. Join the conversation on embracing innovation while upholding ethical standards in the era of transformative AI technologies. Let's embark on this thoughtful exploration together.\n",
            "\n",
            "--------------------------------------------------------------------------------\n"
          ]
        }
      ],
      "source": [
        "res = critic.initiate_chat(\n",
        "    recipient=writer,\n",
        "    message=task,\n",
        "    max_turns=2,\n",
        "    summary_method=\"last_msg\"\n",
        ")"
      ]
    },
    {
      "cell_type": "markdown",
      "id": "c5c833b0",
      "metadata": {
        "id": "c5c833b0"
      },
      "source": [
        "## Get the summary"
      ]
    },
    {
      "cell_type": "code",
      "execution_count": 42,
      "id": "68ef82ed-f102-4964-b7be-60e2f258a39b",
      "metadata": {
        "height": 30,
        "colab": {
          "base_uri": "https://localhost:8080/"
        },
        "id": "68ef82ed-f102-4964-b7be-60e2f258a39b",
        "outputId": "c762ff82-5633-48e0-bf88-6b37a1392aae"
      },
      "outputs": [
        {
          "output_type": "stream",
          "name": "stdout",
          "text": [
            "Title: Navigating the Impact of LLM Agents: Balancing Innovation and Responsibility\n",
            "\n",
            "Embark on a journey through the frontier of artificial intelligence with LLM (Large Language Models) agents. These cutting-edge AI systems are reshaping the digital landscape, from enhancing user experiences to enabling efficient information processing. As we marvel at their capabilities, it's crucial to understand the ethical implications that accompany this technological advancement. Delve into discussions on data privacy, bias mitigation, and societal consequences to navigate the responsible use of LLM agents. Join the conversation on embracing innovation while upholding ethical standards in the era of transformative AI technologies. Let's embark on this thoughtful exploration together.\n"
          ]
        }
      ],
      "source": [
        "print(res.summary)"
      ]
    }
  ],
  "metadata": {
    "kernelspec": {
      "display_name": "Python 3 (ipykernel)",
      "language": "python",
      "name": "python3"
    },
    "language_info": {
      "codemirror_mode": {
        "name": "ipython",
        "version": 3
      },
      "file_extension": ".py",
      "mimetype": "text/x-python",
      "name": "python",
      "nbconvert_exporter": "python",
      "pygments_lexer": "ipython3",
      "version": "3.11.9"
    },
    "colab": {
      "provenance": [],
      "include_colab_link": true
    }
  },
  "nbformat": 4,
  "nbformat_minor": 5
}