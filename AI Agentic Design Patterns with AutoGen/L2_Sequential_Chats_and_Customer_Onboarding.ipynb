{
  "cells": [
    {
      "cell_type": "markdown",
      "metadata": {
        "id": "view-in-github",
        "colab_type": "text"
      },
      "source": [
        "<a href=\"https://colab.research.google.com/github/rrfsantos/Large-Language-Model-Agents-MOOC-Fall-2024/blob/main/AI%20Agentic%20Design%20Patterns%20with%20AutoGen/L2_Sequential_Chats_and_Customer_Onboarding.ipynb\" target=\"_parent\"><img src=\"https://colab.research.google.com/assets/colab-badge.svg\" alt=\"Open In Colab\"/></a>"
      ]
    },
    {
      "cell_type": "markdown",
      "id": "8140b161",
      "metadata": {
        "id": "8140b161"
      },
      "source": [
        "# Lesson 2: Sequential Chats and Customer Onboarding"
      ]
    },
    {
      "cell_type": "markdown",
      "id": "e9d4d307",
      "metadata": {
        "id": "e9d4d307"
      },
      "source": [
        "## Setup"
      ]
    },
    {
      "cell_type": "code",
      "source": [
        "from google.colab import drive\n",
        "drive.mount('/content/drive')"
      ],
      "metadata": {
        "colab": {
          "base_uri": "https://localhost:8080/"
        },
        "id": "ecDJ646B0U4C",
        "outputId": "cd65902f-aac7-4bd6-ed4a-127f492ca88d"
      },
      "id": "ecDJ646B0U4C",
      "execution_count": 1,
      "outputs": [
        {
          "output_type": "stream",
          "name": "stdout",
          "text": [
            "Mounted at /content/drive\n"
          ]
        }
      ]
    },
    {
      "cell_type": "code",
      "source": [
        "!pip install -r /content/drive/MyDrive/AutoGen/requirements.txt"
      ],
      "metadata": {
        "id": "j5ORLFil0XvF"
      },
      "id": "j5ORLFil0XvF",
      "execution_count": null,
      "outputs": []
    },
    {
      "cell_type": "code",
      "execution_count": 13,
      "id": "20ce6700-8a33-424f-aefe-8852fd1e6d07",
      "metadata": {
        "height": 30,
        "id": "20ce6700-8a33-424f-aefe-8852fd1e6d07"
      },
      "outputs": [],
      "source": [
        "from dotenv import load_dotenv\n",
        "import warnings\n",
        "import os\n",
        "from autogen import ConversableAgent, initiate_chats\n",
        "warnings.simplefilter(action='ignore', category=FutureWarning)\n",
        "warnings.simplefilter(action='ignore', category=UserWarning)"
      ]
    },
    {
      "cell_type": "code",
      "source": [
        "# Load environment variables from .env file\n",
        "load_dotenv(\"/content/drive/MyDrive/AutoGen/env\")\n",
        "llm_config = {\"config_list\": [{\"model\": \"gpt-3.5-turbo\", \"api_key\" : os.getenv(\"OPENAI_API_KEY\")}]}"
      ],
      "metadata": {
        "id": "c6YJLWGz0sbW"
      },
      "id": "c6YJLWGz0sbW",
      "execution_count": 5,
      "outputs": []
    },
    {
      "cell_type": "markdown",
      "id": "76f979f9",
      "metadata": {
        "id": "76f979f9"
      },
      "source": [
        "## Creating the needed agents"
      ]
    },
    {
      "cell_type": "code",
      "execution_count": 6,
      "id": "a527bb1e-dd4e-47b0-a1b7-a9cbcd87cbdb",
      "metadata": {
        "height": 200,
        "colab": {
          "base_uri": "https://localhost:8080/"
        },
        "id": "a527bb1e-dd4e-47b0-a1b7-a9cbcd87cbdb",
        "outputId": "32247be2-e380-4a33-a9ff-0fc9c6625e37"
      },
      "outputs": [
        {
          "output_type": "stream",
          "name": "stdout",
          "text": [
            "[autogen.oai.client: 10-28 15:52:02] {129} WARNING - The API key specified is not a valid OpenAI format; it won't work with the OpenAI-hosted model.\n"
          ]
        },
        {
          "output_type": "stream",
          "name": "stderr",
          "text": [
            "WARNING:autogen.oai.client:The API key specified is not a valid OpenAI format; it won't work with the OpenAI-hosted model.\n"
          ]
        }
      ],
      "source": [
        "onboarding_personal_information_agent = ConversableAgent(\n",
        "    name=\"Onboarding Personal Information Agent\",\n",
        "    system_message='''You are a helpful customer onboarding agent,\n",
        "    you are here to help new customers get started with our product.\n",
        "    Your job is to gather customer's name and location.\n",
        "    Do not ask for other information. Return 'TERMINATE'\n",
        "    when you have gathered all the information.''',\n",
        "    llm_config=llm_config,\n",
        "    code_execution_config=False,\n",
        "    human_input_mode=\"NEVER\",\n",
        ")"
      ]
    },
    {
      "cell_type": "code",
      "execution_count": 7,
      "id": "51bc9a24-a680-444d-943b-b740bce0189d",
      "metadata": {
        "height": 215,
        "colab": {
          "base_uri": "https://localhost:8080/"
        },
        "id": "51bc9a24-a680-444d-943b-b740bce0189d",
        "outputId": "23be5716-b291-4daf-f054-8bc7eda8c04a"
      },
      "outputs": [
        {
          "output_type": "stream",
          "name": "stdout",
          "text": [
            "[autogen.oai.client: 10-28 15:52:09] {129} WARNING - The API key specified is not a valid OpenAI format; it won't work with the OpenAI-hosted model.\n"
          ]
        },
        {
          "output_type": "stream",
          "name": "stderr",
          "text": [
            "WARNING:autogen.oai.client:The API key specified is not a valid OpenAI format; it won't work with the OpenAI-hosted model.\n"
          ]
        }
      ],
      "source": [
        "onboarding_topic_preference_agent = ConversableAgent(\n",
        "    name=\"Onboarding Topic preference Agent\",\n",
        "    system_message='''You are a helpful customer onboarding agent,\n",
        "    you are here to help new customers get started with our product.\n",
        "    Your job is to gather customer's preferences on news topics.\n",
        "    Do not ask for other information.\n",
        "    Return 'TERMINATE' when you have gathered all the information.''',\n",
        "    llm_config=llm_config,\n",
        "    code_execution_config=False,\n",
        "    human_input_mode=\"NEVER\",\n",
        ")"
      ]
    },
    {
      "cell_type": "code",
      "execution_count": 8,
      "id": "6755a7fc-cb17-4d62-a03f-48e260f39010",
      "metadata": {
        "height": 249,
        "colab": {
          "base_uri": "https://localhost:8080/"
        },
        "id": "6755a7fc-cb17-4d62-a03f-48e260f39010",
        "outputId": "f9aacd9b-4943-4474-9dec-f9c03fdb1621"
      },
      "outputs": [
        {
          "output_type": "stream",
          "name": "stdout",
          "text": [
            "[autogen.oai.client: 10-28 15:52:49] {129} WARNING - The API key specified is not a valid OpenAI format; it won't work with the OpenAI-hosted model.\n"
          ]
        },
        {
          "output_type": "stream",
          "name": "stderr",
          "text": [
            "WARNING:autogen.oai.client:The API key specified is not a valid OpenAI format; it won't work with the OpenAI-hosted model.\n"
          ]
        }
      ],
      "source": [
        "customer_engagement_agent = ConversableAgent(\n",
        "    name=\"Customer Engagement Agent\",\n",
        "    system_message='''You are a helpful customer service agent\n",
        "    here to provide fun for the customer based on the user's\n",
        "    personal information and topic preferences.\n",
        "    This could include fun facts, jokes, or interesting stories.\n",
        "    Make sure to make it engaging and fun!\n",
        "    Return 'TERMINATE' when you are done.''',\n",
        "    llm_config=llm_config,\n",
        "    code_execution_config=False,\n",
        "    human_input_mode=\"NEVER\",\n",
        "    is_termination_msg=lambda msg: \"terminate\" in msg.get(\"content\").lower(),\n",
        ")"
      ]
    },
    {
      "cell_type": "code",
      "execution_count": 9,
      "id": "64267c0b-f7f2-46e6-ab44-6f7b5fbd9db7",
      "metadata": {
        "height": 147,
        "id": "64267c0b-f7f2-46e6-ab44-6f7b5fbd9db7"
      },
      "outputs": [],
      "source": [
        "customer_proxy_agent = ConversableAgent(\n",
        "    name=\"customer_proxy_agent\",\n",
        "    llm_config=False,\n",
        "    code_execution_config=False,\n",
        "    human_input_mode=\"ALWAYS\",\n",
        "    is_termination_msg=lambda msg: \"terminate\" in msg.get(\"content\").lower(),\n",
        ")"
      ]
    },
    {
      "cell_type": "markdown",
      "id": "4f240408",
      "metadata": {
        "id": "4f240408"
      },
      "source": [
        "## Creating tasks\n",
        "\n",
        "Now, you can craft a series of tasks to facilitate the onboarding process."
      ]
    },
    {
      "cell_type": "code",
      "execution_count": 10,
      "id": "2b15af1d-7042-4569-a936-7966be203f05",
      "metadata": {
        "height": 606,
        "id": "2b15af1d-7042-4569-a936-7966be203f05"
      },
      "outputs": [],
      "source": [
        "chats = [\n",
        "    {\n",
        "        \"sender\": onboarding_personal_information_agent,\n",
        "        \"recipient\": customer_proxy_agent,\n",
        "        \"message\":\n",
        "            \"Hello, I'm here to help you get started with our product.\"\n",
        "            \"Could you tell me your name and location?\",\n",
        "        \"summary_method\": \"reflection_with_llm\",\n",
        "        \"summary_args\": {\n",
        "            \"summary_prompt\" : \"Return the customer information \"\n",
        "                             \"into as JSON object only: \"\n",
        "                             \"{'name': '', 'location': ''}\",\n",
        "        },\n",
        "        \"max_turns\": 2,\n",
        "        \"clear_history\" : True\n",
        "    },\n",
        "    {\n",
        "        \"sender\": onboarding_topic_preference_agent,\n",
        "        \"recipient\": customer_proxy_agent,\n",
        "        \"message\":\n",
        "                \"Great! Could you tell me what topics you are \"\n",
        "                \"interested in reading about?\",\n",
        "        \"summary_method\": \"reflection_with_llm\",\n",
        "        \"max_turns\": 1,\n",
        "        \"clear_history\" : False\n",
        "    },\n",
        "    {\n",
        "        \"sender\": customer_proxy_agent,\n",
        "        \"recipient\": customer_engagement_agent,\n",
        "        \"message\": \"Let's find something fun to read.\",\n",
        "        \"max_turns\": 1,\n",
        "        \"summary_method\": \"reflection_with_llm\",\n",
        "    },\n",
        "]"
      ]
    },
    {
      "cell_type": "markdown",
      "id": "862a066b",
      "metadata": {
        "id": "862a066b"
      },
      "source": [
        "## Start the onboarding process"
      ]
    },
    {
      "cell_type": "markdown",
      "id": "e0fa8f99",
      "metadata": {
        "id": "e0fa8f99"
      },
      "source": [
        "**Note**: You might get a slightly different response than what's shown in the video. Feel free to try different inputs, such as name, location, and preferences."
      ]
    },
    {
      "cell_type": "code",
      "execution_count": 14,
      "id": "9d6d1d4a-0b50-41a5-a1f0-3ff208398bc6",
      "metadata": {
        "height": 64,
        "colab": {
          "base_uri": "https://localhost:8080/"
        },
        "id": "9d6d1d4a-0b50-41a5-a1f0-3ff208398bc6",
        "outputId": "37a6dd06-b6fc-441c-b780-3df818633808"
      },
      "outputs": [
        {
          "output_type": "stream",
          "name": "stdout",
          "text": [
            "\n",
            "********************************************************************************\n",
            "Starting a new chat....\n",
            "\n",
            "********************************************************************************\n",
            "Onboarding Personal Information Agent (to customer_proxy_agent):\n",
            "\n",
            "Hello, I'm here to help you get started with our product.Could you tell me your name and location?\n",
            "\n",
            "--------------------------------------------------------------------------------\n",
            "Provide feedback to Onboarding Personal Information Agent. Press enter to skip and use auto-reply, or type 'exit' to end the conversation: Reanata Rio de janeiro\n",
            "customer_proxy_agent (to Onboarding Personal Information Agent):\n",
            "\n",
            "Reanata Rio de janeiro\n",
            "\n",
            "--------------------------------------------------------------------------------\n",
            "Onboarding Personal Information Agent (to customer_proxy_agent):\n",
            "\n",
            "Great! Thank you for providing your name and location. Is there anything else I can assist you with today, or are you all set for now?\n",
            "\n",
            "--------------------------------------------------------------------------------\n",
            "Provide feedback to Onboarding Personal Information Agent. Press enter to skip and use auto-reply, or type 'exit' to end the conversation: \n",
            "\n",
            ">>>>>>>> NO HUMAN INPUT RECEIVED.\n",
            "\n",
            ">>>>>>>> USING AUTO REPLY...\n",
            "customer_proxy_agent (to Onboarding Personal Information Agent):\n",
            "\n",
            "\n",
            "\n",
            "--------------------------------------------------------------------------------\n",
            "\n",
            "********************************************************************************\n",
            "Starting a new chat....\n",
            "\n",
            "********************************************************************************\n",
            "Onboarding Topic preference Agent (to customer_proxy_agent):\n",
            "\n",
            "Great! Could you tell me what topics you are interested in reading about?\n",
            "Context: \n",
            "{\n",
            "  \"name\": \"Reanata\",\n",
            "  \"location\": \"Rio de Janeiro\"\n",
            "}\n",
            "\n",
            "--------------------------------------------------------------------------------\n",
            "Provide feedback to Onboarding Topic preference Agent. Press enter to skip and use auto-reply, or type 'exit' to end the conversation: Carros\n",
            "customer_proxy_agent (to Onboarding Topic preference Agent):\n",
            "\n",
            "Carros\n",
            "\n",
            "--------------------------------------------------------------------------------\n",
            "\n",
            "********************************************************************************\n",
            "Starting a new chat....\n",
            "\n",
            "********************************************************************************\n",
            "customer_proxy_agent (to Customer Engagement Agent):\n",
            "\n",
            "Let's find something fun to read.\n",
            "Context: \n",
            "{\n",
            "  \"name\": \"Reanata\",\n",
            "  \"location\": \"Rio de Janeiro\"\n",
            "}\n",
            "The person is from Rio de Janeiro and is interested in reading about cars.\n",
            "\n",
            "--------------------------------------------------------------------------------\n",
            "Customer Engagement Agent (to customer_proxy_agent):\n",
            "\n",
            "Hey Renata! Did you know that Rio de Janeiro is home to one of the world's most famous car races - the Rio de Janeiro Grand Prix? This annual event attracts top drivers and car enthusiasts from around the globe to compete in the beautiful streets of Rio.\n",
            "\n",
            "If you're interested in cars, you might enjoy reading about the history of this exciting race and the fast cars that zoom through the city streets. It's a thrilling combination of speed, skill, and adrenaline!\n",
            "\n",
            "I hope this fun fact adds some excitement to your reading adventures! If you'd like more car-related recommendations or any other topic, feel free to let me know! 😊\n",
            "\n",
            "--------------------------------------------------------------------------------\n"
          ]
        }
      ],
      "source": [
        "chat_results = initiate_chats(chats)"
      ]
    },
    {
      "cell_type": "markdown",
      "id": "4f9e2713",
      "metadata": {
        "id": "4f9e2713"
      },
      "source": [
        "## Print out the summary"
      ]
    },
    {
      "cell_type": "code",
      "execution_count": 15,
      "id": "1e122f8a-1ceb-4635-9672-662114b0552a",
      "metadata": {
        "height": 64,
        "colab": {
          "base_uri": "https://localhost:8080/"
        },
        "id": "1e122f8a-1ceb-4635-9672-662114b0552a",
        "outputId": "e826d47d-3c61-4a3c-ad2a-6ed8d6356701"
      },
      "outputs": [
        {
          "output_type": "stream",
          "name": "stdout",
          "text": [
            "{\n",
            "  \"name\": \"Reanata\",\n",
            "  \"location\": \"Rio de Janeiro\"\n",
            "}\n",
            "\n",
            "\n",
            "The person is from Rio de Janeiro and is interested in reading about cars.\n",
            "\n",
            "\n",
            "Renata from Rio de Janeiro may enjoy reading about the Rio de Janeiro Grand Prix, a popular car race held in the city. It is an exciting event that attracts top drivers and car enthusiasts from around the world.\n",
            "\n",
            "\n"
          ]
        }
      ],
      "source": [
        "for chat_result in chat_results:\n",
        "    print(chat_result.summary)\n",
        "    print(\"\\n\")"
      ]
    },
    {
      "cell_type": "markdown",
      "id": "a674c4eb",
      "metadata": {
        "id": "a674c4eb"
      },
      "source": [
        "## Print out the cost"
      ]
    },
    {
      "cell_type": "code",
      "execution_count": 16,
      "id": "8b82a10a-afe5-4ba3-97b4-41c8c14b739f",
      "metadata": {
        "height": 64,
        "colab": {
          "base_uri": "https://localhost:8080/"
        },
        "id": "8b82a10a-afe5-4ba3-97b4-41c8c14b739f",
        "outputId": "5c2a4711-fce9-4a9c-d03f-d525f802998c"
      },
      "outputs": [
        {
          "output_type": "stream",
          "name": "stdout",
          "text": [
            "{'usage_including_cached_inference': {'total_cost': 0.000178, 'gpt-3.5-turbo-0125': {'cost': 0.000178, 'prompt_tokens': 206, 'completion_tokens': 50, 'total_tokens': 256}}, 'usage_excluding_cached_inference': {'total_cost': 0.000178, 'gpt-3.5-turbo-0125': {'cost': 0.000178, 'prompt_tokens': 206, 'completion_tokens': 50, 'total_tokens': 256}}}\n",
            "\n",
            "\n",
            "{'usage_including_cached_inference': {'total_cost': 5.8e-05, 'gpt-3.5-turbo-0125': {'cost': 5.8e-05, 'prompt_tokens': 71, 'completion_tokens': 15, 'total_tokens': 86}}, 'usage_excluding_cached_inference': {'total_cost': 5.8e-05, 'gpt-3.5-turbo-0125': {'cost': 5.8e-05, 'prompt_tokens': 71, 'completion_tokens': 15, 'total_tokens': 86}}}\n",
            "\n",
            "\n",
            "{'usage_including_cached_inference': {'total_cost': 0.00042350000000000005, 'gpt-3.5-turbo-0125': {'cost': 0.00042350000000000005, 'prompt_tokens': 328, 'completion_tokens': 173, 'total_tokens': 501}}, 'usage_excluding_cached_inference': {'total_cost': 0.00042350000000000005, 'gpt-3.5-turbo-0125': {'cost': 0.00042350000000000005, 'prompt_tokens': 328, 'completion_tokens': 173, 'total_tokens': 501}}}\n",
            "\n",
            "\n"
          ]
        }
      ],
      "source": [
        "for chat_result in chat_results:\n",
        "    print(chat_result.cost)\n",
        "    print(\"\\n\")"
      ]
    }
  ],
  "metadata": {
    "kernelspec": {
      "display_name": "Python 3 (ipykernel)",
      "language": "python",
      "name": "python3"
    },
    "language_info": {
      "codemirror_mode": {
        "name": "ipython",
        "version": 3
      },
      "file_extension": ".py",
      "mimetype": "text/x-python",
      "name": "python",
      "nbconvert_exporter": "python",
      "pygments_lexer": "ipython3",
      "version": "3.11.9"
    },
    "colab": {
      "provenance": [],
      "include_colab_link": true
    }
  },
  "nbformat": 4,
  "nbformat_minor": 5
}